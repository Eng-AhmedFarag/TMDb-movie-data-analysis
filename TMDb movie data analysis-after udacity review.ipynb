{
 "cells": [
  {
   "cell_type": "markdown",
   "metadata": {},
   "source": [
    "# Project: TMDb movie data analysis\n",
    "\n",
    "## Table of Contents\n",
    "<ul>\n",
    "<li><a href=\"#intro\">Introduction</a></li>\n",
    "<li><a href=\"#wrangling\">Data Wrangling</a></li>\n",
    "<li><a href=\"#eda\">Exploratory Data Analysis</a></li>\n",
    "<li><a href=\"#conclusions\">Conclusions</a></li>\n",
    "</ul>"
   ]
  },
  {
   "cell_type": "markdown",
   "metadata": {},
   "source": [
    "<a id='intro'></a>\n",
    "# Introduction\n",
    "\n",
    "> ## Brif about the dataset:\n",
    "\n",
    "This data set contains information\n",
    "about 10,000 movies collected from\n",
    "The Movie Database (TMDb),\n",
    "including user ratings and revenue.\n",
    "\n",
    "● Certain columns, like ‘cast’\n",
    "and ‘genres’, contain multiple\n",
    "values separated by pipe (|)\n",
    "characters.\n",
    "\n",
    "● The final two columns ending\n",
    "with “_adj” show the budget and\n",
    "revenue of the associated movie\n",
    "in terms of 2010 dollars,\n",
    "accounting for inflation over\n",
    "time.\n",
    "\n",
    "> ## Research Questions:\n",
    "\n",
    "+ **Question 1** ( The most popular movie & the less popular movie?)\n",
    "\n",
    "+ **Question 2** ( The highest cost movie ?)\n",
    "\n",
    "+ **Question 3** ( The highest Revenue movie ?)\n",
    "\n",
    "+ **Question 4** ( The highest Profit movie & the lowest profit movie ?)\n",
    "\n",
    "+ **Question 5** ( The distribution of the number of movies along years & The most production year?)\n",
    "\n",
    "+ **Question 6** ( The correlation between budget & both revenue & profit?)\n",
    "\n",
    "+ **Question 7** ( The correlation between Popularity &  profit?)\n",
    "\n",
    "+ **Question 8**  (What kinds of properties are associated with movies that have high revenues?)\n",
    "\n",
    "+ **Question 9**  (Which director are most popular ??)\n",
    "\n",
    "+ **Question 10**  (Which genres are most popular from year to year???)\n",
    "\n",
    "\n"
   ]
  },
  {
   "cell_type": "markdown",
   "metadata": {},
   "source": [
    "<a id='wrangling'></a>\n",
    "# Data Wrangling\n",
    "\n",
    "\n",
    "### General Properties"
   ]
  },
  {
   "cell_type": "code",
   "execution_count": 1,
   "metadata": {},
   "outputs": [],
   "source": [
    "#Import needed packages \n",
    "import pandas as pd\n",
    "import numpy as np\n",
    "import matplotlib.pyplot as plt\n",
    "import seaborn as sns\n",
    "%matplotlib inline"
   ]
  },
  {
   "cell_type": "code",
   "execution_count": 2,
   "metadata": {},
   "outputs": [
    {
     "data": {
      "text/html": [
       "<div>\n",
       "<style scoped>\n",
       "    .dataframe tbody tr th:only-of-type {\n",
       "        vertical-align: middle;\n",
       "    }\n",
       "\n",
       "    .dataframe tbody tr th {\n",
       "        vertical-align: top;\n",
       "    }\n",
       "\n",
       "    .dataframe thead th {\n",
       "        text-align: right;\n",
       "    }\n",
       "</style>\n",
       "<table border=\"1\" class=\"dataframe\">\n",
       "  <thead>\n",
       "    <tr style=\"text-align: right;\">\n",
       "      <th></th>\n",
       "      <th>id</th>\n",
       "      <th>imdb_id</th>\n",
       "      <th>popularity</th>\n",
       "      <th>budget</th>\n",
       "      <th>revenue</th>\n",
       "      <th>original_title</th>\n",
       "      <th>cast</th>\n",
       "      <th>homepage</th>\n",
       "      <th>director</th>\n",
       "      <th>tagline</th>\n",
       "      <th>...</th>\n",
       "      <th>overview</th>\n",
       "      <th>runtime</th>\n",
       "      <th>genres</th>\n",
       "      <th>production_companies</th>\n",
       "      <th>release_date</th>\n",
       "      <th>vote_count</th>\n",
       "      <th>vote_average</th>\n",
       "      <th>release_year</th>\n",
       "      <th>budget_adj</th>\n",
       "      <th>revenue_adj</th>\n",
       "    </tr>\n",
       "  </thead>\n",
       "  <tbody>\n",
       "    <tr>\n",
       "      <th>0</th>\n",
       "      <td>135397</td>\n",
       "      <td>tt0369610</td>\n",
       "      <td>32.985763</td>\n",
       "      <td>150000000</td>\n",
       "      <td>1513528810</td>\n",
       "      <td>Jurassic World</td>\n",
       "      <td>Chris Pratt|Bryce Dallas Howard|Irrfan Khan|Vi...</td>\n",
       "      <td>http://www.jurassicworld.com/</td>\n",
       "      <td>Colin Trevorrow</td>\n",
       "      <td>The park is open.</td>\n",
       "      <td>...</td>\n",
       "      <td>Twenty-two years after the events of Jurassic ...</td>\n",
       "      <td>124</td>\n",
       "      <td>Action|Adventure|Science Fiction|Thriller</td>\n",
       "      <td>Universal Studios|Amblin Entertainment|Legenda...</td>\n",
       "      <td>6/9/15</td>\n",
       "      <td>5562</td>\n",
       "      <td>6.5</td>\n",
       "      <td>2015</td>\n",
       "      <td>1.379999e+08</td>\n",
       "      <td>1.392446e+09</td>\n",
       "    </tr>\n",
       "    <tr>\n",
       "      <th>1</th>\n",
       "      <td>76341</td>\n",
       "      <td>tt1392190</td>\n",
       "      <td>28.419936</td>\n",
       "      <td>150000000</td>\n",
       "      <td>378436354</td>\n",
       "      <td>Mad Max: Fury Road</td>\n",
       "      <td>Tom Hardy|Charlize Theron|Hugh Keays-Byrne|Nic...</td>\n",
       "      <td>http://www.madmaxmovie.com/</td>\n",
       "      <td>George Miller</td>\n",
       "      <td>What a Lovely Day.</td>\n",
       "      <td>...</td>\n",
       "      <td>An apocalyptic story set in the furthest reach...</td>\n",
       "      <td>120</td>\n",
       "      <td>Action|Adventure|Science Fiction|Thriller</td>\n",
       "      <td>Village Roadshow Pictures|Kennedy Miller Produ...</td>\n",
       "      <td>5/13/15</td>\n",
       "      <td>6185</td>\n",
       "      <td>7.1</td>\n",
       "      <td>2015</td>\n",
       "      <td>1.379999e+08</td>\n",
       "      <td>3.481613e+08</td>\n",
       "    </tr>\n",
       "  </tbody>\n",
       "</table>\n",
       "<p>2 rows × 21 columns</p>\n",
       "</div>"
      ],
      "text/plain": [
       "       id    imdb_id  popularity     budget     revenue      original_title  \\\n",
       "0  135397  tt0369610   32.985763  150000000  1513528810      Jurassic World   \n",
       "1   76341  tt1392190   28.419936  150000000   378436354  Mad Max: Fury Road   \n",
       "\n",
       "                                                cast  \\\n",
       "0  Chris Pratt|Bryce Dallas Howard|Irrfan Khan|Vi...   \n",
       "1  Tom Hardy|Charlize Theron|Hugh Keays-Byrne|Nic...   \n",
       "\n",
       "                        homepage         director             tagline  ...  \\\n",
       "0  http://www.jurassicworld.com/  Colin Trevorrow   The park is open.  ...   \n",
       "1    http://www.madmaxmovie.com/    George Miller  What a Lovely Day.  ...   \n",
       "\n",
       "                                            overview runtime  \\\n",
       "0  Twenty-two years after the events of Jurassic ...     124   \n",
       "1  An apocalyptic story set in the furthest reach...     120   \n",
       "\n",
       "                                      genres  \\\n",
       "0  Action|Adventure|Science Fiction|Thriller   \n",
       "1  Action|Adventure|Science Fiction|Thriller   \n",
       "\n",
       "                                production_companies release_date vote_count  \\\n",
       "0  Universal Studios|Amblin Entertainment|Legenda...       6/9/15       5562   \n",
       "1  Village Roadshow Pictures|Kennedy Miller Produ...      5/13/15       6185   \n",
       "\n",
       "   vote_average  release_year    budget_adj   revenue_adj  \n",
       "0           6.5          2015  1.379999e+08  1.392446e+09  \n",
       "1           7.1          2015  1.379999e+08  3.481613e+08  \n",
       "\n",
       "[2 rows x 21 columns]"
      ]
     },
     "execution_count": 2,
     "metadata": {},
     "output_type": "execute_result"
    }
   ],
   "source": [
    "# Load the data & Reviweing it.\n",
    "df = pd.read_csv('tmdb-movies.csv')\n",
    "df.head(2)"
   ]
  },
  {
   "cell_type": "code",
   "execution_count": 3,
   "metadata": {},
   "outputs": [
    {
     "name": "stdout",
     "output_type": "stream",
     "text": [
      "<class 'pandas.core.frame.DataFrame'>\n",
      "RangeIndex: 10866 entries, 0 to 10865\n",
      "Data columns (total 21 columns):\n",
      " #   Column                Non-Null Count  Dtype  \n",
      "---  ------                --------------  -----  \n",
      " 0   id                    10866 non-null  int64  \n",
      " 1   imdb_id               10856 non-null  object \n",
      " 2   popularity            10866 non-null  float64\n",
      " 3   budget                10866 non-null  int64  \n",
      " 4   revenue               10866 non-null  int64  \n",
      " 5   original_title        10866 non-null  object \n",
      " 6   cast                  10790 non-null  object \n",
      " 7   homepage              2936 non-null   object \n",
      " 8   director              10822 non-null  object \n",
      " 9   tagline               8042 non-null   object \n",
      " 10  keywords              9373 non-null   object \n",
      " 11  overview              10862 non-null  object \n",
      " 12  runtime               10866 non-null  int64  \n",
      " 13  genres                10843 non-null  object \n",
      " 14  production_companies  9836 non-null   object \n",
      " 15  release_date          10866 non-null  object \n",
      " 16  vote_count            10866 non-null  int64  \n",
      " 17  vote_average          10866 non-null  float64\n",
      " 18  release_year          10866 non-null  int64  \n",
      " 19  budget_adj            10866 non-null  float64\n",
      " 20  revenue_adj           10866 non-null  float64\n",
      "dtypes: float64(4), int64(6), object(11)\n",
      "memory usage: 1.7+ MB\n"
     ]
    }
   ],
   "source": [
    "df.info()"
   ]
  },
  {
   "cell_type": "code",
   "execution_count": 4,
   "metadata": {},
   "outputs": [
    {
     "data": {
      "text/plain": [
       "0        monster|dna|tyrannosaurus rex|velociraptor|island\n",
       "1         future|chase|post-apocalyptic|dystopia|australia\n",
       "2        based on novel|revolution|dystopia|sequel|dyst...\n",
       "3                    android|spaceship|jedi|space opera|3d\n",
       "4                      car race|speed|revenge|suspense|car\n",
       "                               ...                        \n",
       "10861                             surfer|surfboard|surfing\n",
       "10862                            car race|racing|formula 1\n",
       "10863                             car|trolley|stealing car\n",
       "10864                                                spoof\n",
       "10865                  fire|gun|drive|sacrifice|flashlight\n",
       "Name: keywords, Length: 10866, dtype: object"
      ]
     },
     "execution_count": 4,
     "metadata": {},
     "output_type": "execute_result"
    }
   ],
   "source": [
    "#explore keywords column\n",
    "df['keywords']"
   ]
  },
  {
   "cell_type": "code",
   "execution_count": 5,
   "metadata": {},
   "outputs": [
    {
     "data": {
      "text/plain": [
       "1"
      ]
     },
     "execution_count": 5,
     "metadata": {},
     "output_type": "execute_result"
    }
   ],
   "source": [
    "# check for duplicated rows\n",
    "df.duplicated().sum()"
   ]
  },
  {
   "cell_type": "code",
   "execution_count": 6,
   "metadata": {},
   "outputs": [
    {
     "data": {
      "text/plain": [
       "id                         0\n",
       "imdb_id                   10\n",
       "popularity                 0\n",
       "budget                     0\n",
       "revenue                    0\n",
       "original_title             0\n",
       "cast                      76\n",
       "homepage                7930\n",
       "director                  44\n",
       "tagline                 2824\n",
       "keywords                1493\n",
       "overview                   4\n",
       "runtime                    0\n",
       "genres                    23\n",
       "production_companies    1030\n",
       "release_date               0\n",
       "vote_count                 0\n",
       "vote_average               0\n",
       "release_year               0\n",
       "budget_adj                 0\n",
       "revenue_adj                0\n",
       "dtype: int64"
      ]
     },
     "execution_count": 6,
     "metadata": {},
     "output_type": "execute_result"
    }
   ],
   "source": [
    "#check for missing data\n",
    "df.isnull().sum()"
   ]
  },
  {
   "cell_type": "code",
   "execution_count": 7,
   "metadata": {},
   "outputs": [
    {
     "data": {
      "text/plain": [
       "id                      10865\n",
       "imdb_id                 10855\n",
       "popularity              10814\n",
       "budget                    557\n",
       "revenue                  4702\n",
       "original_title          10571\n",
       "cast                    10719\n",
       "homepage                 2896\n",
       "director                 5067\n",
       "tagline                  7997\n",
       "keywords                 8804\n",
       "overview                10847\n",
       "runtime                   247\n",
       "genres                   2039\n",
       "production_companies     7445\n",
       "release_date             5909\n",
       "vote_count               1289\n",
       "vote_average               72\n",
       "release_year               56\n",
       "budget_adj               2614\n",
       "revenue_adj              4840\n",
       "dtype: int64"
      ]
     },
     "execution_count": 7,
     "metadata": {},
     "output_type": "execute_result"
    }
   ],
   "source": [
    "# check for unique values\n",
    "df.nunique()"
   ]
  },
  {
   "cell_type": "markdown",
   "metadata": {},
   "source": [
    "## Data Cleaning "
   ]
  },
  {
   "cell_type": "markdown",
   "metadata": {},
   "source": [
    "### Issues need to clean:\n",
    "**Issue(1)** \n",
    "Drop duplicated columns\n",
    "\n",
    "**Issue(2)**\n",
    "Drop columnes which no need for it in analysis ('imdb_id','id','homepage','tagline','keywords','overview','release_date','budget','revenue','production_companies')\n",
    "\n",
    "**Issue(3)**\n",
    "Rearrange columns after doing **~~Issue(1)~~** & **~~Issue(2)~~**\n",
    "\n",
    "**Issue(4)** \n",
    "Drop any rows in dataset that contain missing values \n",
    "\n",
    "**Issue(5)**  Drop any rows in dataset that contain 0 value in (budget_adj,revenue_adj & runtime)\n"
   ]
  },
  {
   "cell_type": "code",
   "execution_count": 8,
   "metadata": {},
   "outputs": [
    {
     "data": {
      "text/plain": [
       "0"
      ]
     },
     "execution_count": 8,
     "metadata": {},
     "output_type": "execute_result"
    }
   ],
   "source": [
    "# Issue(1)\n",
    "df.drop_duplicates(inplace=True)\n",
    "\n",
    "# Check \n",
    "df.duplicated().sum()"
   ]
  },
  {
   "cell_type": "code",
   "execution_count": 9,
   "metadata": {},
   "outputs": [
    {
     "data": {
      "text/html": [
       "<div>\n",
       "<style scoped>\n",
       "    .dataframe tbody tr th:only-of-type {\n",
       "        vertical-align: middle;\n",
       "    }\n",
       "\n",
       "    .dataframe tbody tr th {\n",
       "        vertical-align: top;\n",
       "    }\n",
       "\n",
       "    .dataframe thead th {\n",
       "        text-align: right;\n",
       "    }\n",
       "</style>\n",
       "<table border=\"1\" class=\"dataframe\">\n",
       "  <thead>\n",
       "    <tr style=\"text-align: right;\">\n",
       "      <th></th>\n",
       "      <th>popularity</th>\n",
       "      <th>original_title</th>\n",
       "      <th>cast</th>\n",
       "      <th>director</th>\n",
       "      <th>runtime</th>\n",
       "      <th>genres</th>\n",
       "      <th>vote_count</th>\n",
       "      <th>vote_average</th>\n",
       "      <th>release_year</th>\n",
       "      <th>budget_adj</th>\n",
       "      <th>revenue_adj</th>\n",
       "    </tr>\n",
       "  </thead>\n",
       "  <tbody>\n",
       "    <tr>\n",
       "      <th>0</th>\n",
       "      <td>32.985763</td>\n",
       "      <td>Jurassic World</td>\n",
       "      <td>Chris Pratt|Bryce Dallas Howard|Irrfan Khan|Vi...</td>\n",
       "      <td>Colin Trevorrow</td>\n",
       "      <td>124</td>\n",
       "      <td>Action|Adventure|Science Fiction|Thriller</td>\n",
       "      <td>5562</td>\n",
       "      <td>6.5</td>\n",
       "      <td>2015</td>\n",
       "      <td>1.379999e+08</td>\n",
       "      <td>1.392446e+09</td>\n",
       "    </tr>\n",
       "    <tr>\n",
       "      <th>1</th>\n",
       "      <td>28.419936</td>\n",
       "      <td>Mad Max: Fury Road</td>\n",
       "      <td>Tom Hardy|Charlize Theron|Hugh Keays-Byrne|Nic...</td>\n",
       "      <td>George Miller</td>\n",
       "      <td>120</td>\n",
       "      <td>Action|Adventure|Science Fiction|Thriller</td>\n",
       "      <td>6185</td>\n",
       "      <td>7.1</td>\n",
       "      <td>2015</td>\n",
       "      <td>1.379999e+08</td>\n",
       "      <td>3.481613e+08</td>\n",
       "    </tr>\n",
       "  </tbody>\n",
       "</table>\n",
       "</div>"
      ],
      "text/plain": [
       "   popularity      original_title  \\\n",
       "0   32.985763      Jurassic World   \n",
       "1   28.419936  Mad Max: Fury Road   \n",
       "\n",
       "                                                cast         director  \\\n",
       "0  Chris Pratt|Bryce Dallas Howard|Irrfan Khan|Vi...  Colin Trevorrow   \n",
       "1  Tom Hardy|Charlize Theron|Hugh Keays-Byrne|Nic...    George Miller   \n",
       "\n",
       "   runtime                                     genres  vote_count  \\\n",
       "0      124  Action|Adventure|Science Fiction|Thriller        5562   \n",
       "1      120  Action|Adventure|Science Fiction|Thriller        6185   \n",
       "\n",
       "   vote_average  release_year    budget_adj   revenue_adj  \n",
       "0           6.5          2015  1.379999e+08  1.392446e+09  \n",
       "1           7.1          2015  1.379999e+08  3.481613e+08  "
      ]
     },
     "execution_count": 9,
     "metadata": {},
     "output_type": "execute_result"
    }
   ],
   "source": [
    "# Issue(2)\n",
    "df.drop(columns=['imdb_id','id','homepage','tagline','keywords','overview','release_date','budget','revenue','production_companies'],inplace=True)\n",
    "\n",
    "# check\n",
    "df.head(2)"
   ]
  },
  {
   "cell_type": "code",
   "execution_count": 10,
   "metadata": {},
   "outputs": [
    {
     "data": {
      "text/plain": [
       "(10865, 11)"
      ]
     },
     "execution_count": 10,
     "metadata": {},
     "output_type": "execute_result"
    }
   ],
   "source": [
    "df.shape"
   ]
  },
  {
   "cell_type": "code",
   "execution_count": 11,
   "metadata": {},
   "outputs": [
    {
     "data": {
      "text/html": [
       "<div>\n",
       "<style scoped>\n",
       "    .dataframe tbody tr th:only-of-type {\n",
       "        vertical-align: middle;\n",
       "    }\n",
       "\n",
       "    .dataframe tbody tr th {\n",
       "        vertical-align: top;\n",
       "    }\n",
       "\n",
       "    .dataframe thead th {\n",
       "        text-align: right;\n",
       "    }\n",
       "</style>\n",
       "<table border=\"1\" class=\"dataframe\">\n",
       "  <thead>\n",
       "    <tr style=\"text-align: right;\">\n",
       "      <th></th>\n",
       "      <th>original_title</th>\n",
       "      <th>popularity</th>\n",
       "      <th>vote_count</th>\n",
       "      <th>vote_average</th>\n",
       "      <th>runtime</th>\n",
       "      <th>cast</th>\n",
       "      <th>director</th>\n",
       "      <th>genres</th>\n",
       "      <th>budget_adj</th>\n",
       "      <th>revenue_adj</th>\n",
       "      <th>release_year</th>\n",
       "    </tr>\n",
       "  </thead>\n",
       "  <tbody>\n",
       "    <tr>\n",
       "      <th>0</th>\n",
       "      <td>Jurassic World</td>\n",
       "      <td>32.985763</td>\n",
       "      <td>5562</td>\n",
       "      <td>6.5</td>\n",
       "      <td>124</td>\n",
       "      <td>Chris Pratt|Bryce Dallas Howard|Irrfan Khan|Vi...</td>\n",
       "      <td>Colin Trevorrow</td>\n",
       "      <td>Action|Adventure|Science Fiction|Thriller</td>\n",
       "      <td>1.379999e+08</td>\n",
       "      <td>1.392446e+09</td>\n",
       "      <td>2015</td>\n",
       "    </tr>\n",
       "    <tr>\n",
       "      <th>1</th>\n",
       "      <td>Mad Max: Fury Road</td>\n",
       "      <td>28.419936</td>\n",
       "      <td>6185</td>\n",
       "      <td>7.1</td>\n",
       "      <td>120</td>\n",
       "      <td>Tom Hardy|Charlize Theron|Hugh Keays-Byrne|Nic...</td>\n",
       "      <td>George Miller</td>\n",
       "      <td>Action|Adventure|Science Fiction|Thriller</td>\n",
       "      <td>1.379999e+08</td>\n",
       "      <td>3.481613e+08</td>\n",
       "      <td>2015</td>\n",
       "    </tr>\n",
       "  </tbody>\n",
       "</table>\n",
       "</div>"
      ],
      "text/plain": [
       "       original_title  popularity  vote_count  vote_average  runtime  \\\n",
       "0      Jurassic World   32.985763        5562           6.5      124   \n",
       "1  Mad Max: Fury Road   28.419936        6185           7.1      120   \n",
       "\n",
       "                                                cast         director  \\\n",
       "0  Chris Pratt|Bryce Dallas Howard|Irrfan Khan|Vi...  Colin Trevorrow   \n",
       "1  Tom Hardy|Charlize Theron|Hugh Keays-Byrne|Nic...    George Miller   \n",
       "\n",
       "                                      genres    budget_adj   revenue_adj  \\\n",
       "0  Action|Adventure|Science Fiction|Thriller  1.379999e+08  1.392446e+09   \n",
       "1  Action|Adventure|Science Fiction|Thriller  1.379999e+08  3.481613e+08   \n",
       "\n",
       "   release_year  \n",
       "0          2015  \n",
       "1          2015  "
      ]
     },
     "execution_count": 11,
     "metadata": {},
     "output_type": "execute_result"
    }
   ],
   "source": [
    "# Issue(3)\n",
    "df = df[['original_title','popularity','vote_count','vote_average','runtime','cast','director','genres','budget_adj','revenue_adj','release_year']]\n",
    "\n",
    "# Check\n",
    "df.head(2)"
   ]
  },
  {
   "cell_type": "code",
   "execution_count": 12,
   "metadata": {},
   "outputs": [
    {
     "data": {
      "text/plain": [
       "(10865, 11)"
      ]
     },
     "execution_count": 12,
     "metadata": {},
     "output_type": "execute_result"
    }
   ],
   "source": [
    "df.shape"
   ]
  },
  {
   "cell_type": "markdown",
   "metadata": {},
   "source": [
    "### Assess the data after first 3 Issues of cleaning "
   ]
  },
  {
   "cell_type": "code",
   "execution_count": 13,
   "metadata": {},
   "outputs": [
    {
     "data": {
      "text/plain": [
       "original_title     0\n",
       "popularity         0\n",
       "vote_count         0\n",
       "vote_average       0\n",
       "runtime            0\n",
       "cast              76\n",
       "director          44\n",
       "genres            23\n",
       "budget_adj         0\n",
       "revenue_adj        0\n",
       "release_year       0\n",
       "dtype: int64"
      ]
     },
     "execution_count": 13,
     "metadata": {},
     "output_type": "execute_result"
    }
   ],
   "source": [
    "# Ckeck for missing data\n",
    "df.isnull().sum()"
   ]
  },
  {
   "cell_type": "code",
   "execution_count": 14,
   "metadata": {},
   "outputs": [
    {
     "data": {
      "text/plain": [
       "original_title    0\n",
       "popularity        0\n",
       "vote_count        0\n",
       "vote_average      0\n",
       "runtime           0\n",
       "cast              0\n",
       "director          0\n",
       "genres            0\n",
       "budget_adj        0\n",
       "revenue_adj       0\n",
       "release_year      0\n",
       "dtype: int64"
      ]
     },
     "execution_count": 14,
     "metadata": {},
     "output_type": "execute_result"
    }
   ],
   "source": [
    "# Issue(4)\n",
    "df.dropna(inplace= True)\n",
    "\n",
    "# check\n",
    "df.isnull().sum()"
   ]
  },
  {
   "cell_type": "markdown",
   "metadata": {},
   "source": [
    "### Inspecting Data Types"
   ]
  },
  {
   "cell_type": "code",
   "execution_count": 15,
   "metadata": {},
   "outputs": [
    {
     "name": "stdout",
     "output_type": "stream",
     "text": [
      "<class 'pandas.core.frame.DataFrame'>\n",
      "Int64Index: 10731 entries, 0 to 10865\n",
      "Data columns (total 11 columns):\n",
      " #   Column          Non-Null Count  Dtype  \n",
      "---  ------          --------------  -----  \n",
      " 0   original_title  10731 non-null  object \n",
      " 1   popularity      10731 non-null  float64\n",
      " 2   vote_count      10731 non-null  int64  \n",
      " 3   vote_average    10731 non-null  float64\n",
      " 4   runtime         10731 non-null  int64  \n",
      " 5   cast            10731 non-null  object \n",
      " 6   director        10731 non-null  object \n",
      " 7   genres          10731 non-null  object \n",
      " 8   budget_adj      10731 non-null  float64\n",
      " 9   revenue_adj     10731 non-null  float64\n",
      " 10  release_year    10731 non-null  int64  \n",
      "dtypes: float64(4), int64(3), object(4)\n",
      "memory usage: 1006.0+ KB\n"
     ]
    }
   ],
   "source": [
    "df.info()"
   ]
  },
  {
   "cell_type": "markdown",
   "metadata": {},
   "source": [
    "#### No need to change any thing in data Type."
   ]
  },
  {
   "cell_type": "code",
   "execution_count": 16,
   "metadata": {},
   "outputs": [
    {
     "data": {
      "text/plain": [
       "original_title    10439\n",
       "popularity        10684\n",
       "vote_count         1289\n",
       "vote_average         70\n",
       "runtime             243\n",
       "cast              10665\n",
       "director           5018\n",
       "genres             2022\n",
       "budget_adj         2603\n",
       "revenue_adj        4835\n",
       "release_year         56\n",
       "dtype: int64"
      ]
     },
     "execution_count": 16,
     "metadata": {},
     "output_type": "execute_result"
    }
   ],
   "source": [
    "# check for unique values\n",
    "df.nunique()"
   ]
  },
  {
   "cell_type": "code",
   "execution_count": 17,
   "metadata": {},
   "outputs": [
    {
     "data": {
      "text/html": [
       "<div>\n",
       "<style scoped>\n",
       "    .dataframe tbody tr th:only-of-type {\n",
       "        vertical-align: middle;\n",
       "    }\n",
       "\n",
       "    .dataframe tbody tr th {\n",
       "        vertical-align: top;\n",
       "    }\n",
       "\n",
       "    .dataframe thead th {\n",
       "        text-align: right;\n",
       "    }\n",
       "</style>\n",
       "<table border=\"1\" class=\"dataframe\">\n",
       "  <thead>\n",
       "    <tr style=\"text-align: right;\">\n",
       "      <th></th>\n",
       "      <th>original_title</th>\n",
       "      <th>popularity</th>\n",
       "      <th>vote_count</th>\n",
       "      <th>vote_average</th>\n",
       "      <th>runtime</th>\n",
       "      <th>cast</th>\n",
       "      <th>director</th>\n",
       "      <th>genres</th>\n",
       "      <th>budget_adj</th>\n",
       "      <th>revenue_adj</th>\n",
       "      <th>release_year</th>\n",
       "    </tr>\n",
       "  </thead>\n",
       "  <tbody>\n",
       "    <tr>\n",
       "      <th>1133</th>\n",
       "      <td>Survivor</td>\n",
       "      <td>0.188264</td>\n",
       "      <td>23</td>\n",
       "      <td>4.9</td>\n",
       "      <td>93</td>\n",
       "      <td>Danielle Chuchran|Kevin Sorbo|Rocky Myers|Ruby...</td>\n",
       "      <td>John Lyde</td>\n",
       "      <td>Science Fiction|Action|Fantasy</td>\n",
       "      <td>0.000000e+00</td>\n",
       "      <td>0.000000e+00</td>\n",
       "      <td>2014</td>\n",
       "    </tr>\n",
       "    <tr>\n",
       "      <th>1194</th>\n",
       "      <td>Finders Keepers</td>\n",
       "      <td>0.132764</td>\n",
       "      <td>33</td>\n",
       "      <td>4.8</td>\n",
       "      <td>85</td>\n",
       "      <td>Jaime Pressly|Kylie Rogers|Tobin Bell|Patrick ...</td>\n",
       "      <td>Alexander Yellen</td>\n",
       "      <td>Mystery|Thriller|Horror</td>\n",
       "      <td>0.000000e+00</td>\n",
       "      <td>0.000000e+00</td>\n",
       "      <td>2014</td>\n",
       "    </tr>\n",
       "    <tr>\n",
       "      <th>1349</th>\n",
       "      <td>Julia</td>\n",
       "      <td>0.398651</td>\n",
       "      <td>10</td>\n",
       "      <td>5.0</td>\n",
       "      <td>117</td>\n",
       "      <td>Jane Fonda|Vanessa Redgrave|Jason Robards|Maxi...</td>\n",
       "      <td>Fred Zinnemann</td>\n",
       "      <td>Drama</td>\n",
       "      <td>0.000000e+00</td>\n",
       "      <td>0.000000e+00</td>\n",
       "      <td>1977</td>\n",
       "    </tr>\n",
       "    <tr>\n",
       "      <th>1440</th>\n",
       "      <td>Brothers</td>\n",
       "      <td>1.223786</td>\n",
       "      <td>381</td>\n",
       "      <td>6.7</td>\n",
       "      <td>104</td>\n",
       "      <td>Tobey Maguire|Jake Gyllenhaal|Natalie Portman|...</td>\n",
       "      <td>Jim Sheridan</td>\n",
       "      <td>Drama|Thriller|War</td>\n",
       "      <td>2.642641e+07</td>\n",
       "      <td>4.402879e+07</td>\n",
       "      <td>2009</td>\n",
       "    </tr>\n",
       "    <tr>\n",
       "      <th>1513</th>\n",
       "      <td>Home</td>\n",
       "      <td>0.688361</td>\n",
       "      <td>109</td>\n",
       "      <td>7.8</td>\n",
       "      <td>95</td>\n",
       "      <td>Glenn Close|Yann Arthus-Bertrand|Jacques Gambl...</td>\n",
       "      <td>Yann Arthus-Bertrand</td>\n",
       "      <td>Documentary</td>\n",
       "      <td>0.000000e+00</td>\n",
       "      <td>0.000000e+00</td>\n",
       "      <td>2009</td>\n",
       "    </tr>\n",
       "    <tr>\n",
       "      <th>...</th>\n",
       "      <td>...</td>\n",
       "      <td>...</td>\n",
       "      <td>...</td>\n",
       "      <td>...</td>\n",
       "      <td>...</td>\n",
       "      <td>...</td>\n",
       "      <td>...</td>\n",
       "      <td>...</td>\n",
       "      <td>...</td>\n",
       "      <td>...</td>\n",
       "      <td>...</td>\n",
       "    </tr>\n",
       "    <tr>\n",
       "      <th>10818</th>\n",
       "      <td>Long Weekend</td>\n",
       "      <td>0.047645</td>\n",
       "      <td>17</td>\n",
       "      <td>6.1</td>\n",
       "      <td>92</td>\n",
       "      <td>John Hargreaves|Briony Behets|Mike McEwen|Roy ...</td>\n",
       "      <td>Colin Eggleston</td>\n",
       "      <td>Horror|Thriller|Mystery</td>\n",
       "      <td>0.000000e+00</td>\n",
       "      <td>0.000000e+00</td>\n",
       "      <td>1978</td>\n",
       "    </tr>\n",
       "    <tr>\n",
       "      <th>10827</th>\n",
       "      <td>Batman</td>\n",
       "      <td>0.410366</td>\n",
       "      <td>99</td>\n",
       "      <td>5.9</td>\n",
       "      <td>105</td>\n",
       "      <td>Adam West|Burt Ward|Cesar Romero|Burgess Mered...</td>\n",
       "      <td>Leslie H. Martinson</td>\n",
       "      <td>Family|Adventure|Comedy|Science Fiction|Crime</td>\n",
       "      <td>9.256081e+06</td>\n",
       "      <td>0.000000e+00</td>\n",
       "      <td>1966</td>\n",
       "    </tr>\n",
       "    <tr>\n",
       "      <th>10849</th>\n",
       "      <td>Gambit</td>\n",
       "      <td>0.206537</td>\n",
       "      <td>14</td>\n",
       "      <td>6.1</td>\n",
       "      <td>109</td>\n",
       "      <td>Michael Caine|Shirley MacLaine|Herbert Lom|Joh...</td>\n",
       "      <td>Ronald Neame</td>\n",
       "      <td>Action|Comedy|Crime</td>\n",
       "      <td>0.000000e+00</td>\n",
       "      <td>0.000000e+00</td>\n",
       "      <td>1966</td>\n",
       "    </tr>\n",
       "    <tr>\n",
       "      <th>10853</th>\n",
       "      <td>Alfie</td>\n",
       "      <td>0.163592</td>\n",
       "      <td>26</td>\n",
       "      <td>6.2</td>\n",
       "      <td>114</td>\n",
       "      <td>Michael Caine|Shelley Winters|Millicent Martin...</td>\n",
       "      <td>Lewis Gilbert</td>\n",
       "      <td>Comedy|Drama|Romance</td>\n",
       "      <td>0.000000e+00</td>\n",
       "      <td>0.000000e+00</td>\n",
       "      <td>1966</td>\n",
       "    </tr>\n",
       "    <tr>\n",
       "      <th>10854</th>\n",
       "      <td>The Chase</td>\n",
       "      <td>0.146402</td>\n",
       "      <td>17</td>\n",
       "      <td>6.0</td>\n",
       "      <td>135</td>\n",
       "      <td>Marlon Brando|Jane Fonda|Robert Redford|E.G. M...</td>\n",
       "      <td>Arthur Penn</td>\n",
       "      <td>Thriller|Drama|Crime</td>\n",
       "      <td>0.000000e+00</td>\n",
       "      <td>0.000000e+00</td>\n",
       "      <td>1966</td>\n",
       "    </tr>\n",
       "  </tbody>\n",
       "</table>\n",
       "<p>292 rows × 11 columns</p>\n",
       "</div>"
      ],
      "text/plain": [
       "        original_title  popularity  vote_count  vote_average  runtime  \\\n",
       "1133          Survivor    0.188264          23           4.9       93   \n",
       "1194   Finders Keepers    0.132764          33           4.8       85   \n",
       "1349             Julia    0.398651          10           5.0      117   \n",
       "1440          Brothers    1.223786         381           6.7      104   \n",
       "1513              Home    0.688361         109           7.8       95   \n",
       "...                ...         ...         ...           ...      ...   \n",
       "10818     Long Weekend    0.047645          17           6.1       92   \n",
       "10827           Batman    0.410366          99           5.9      105   \n",
       "10849           Gambit    0.206537          14           6.1      109   \n",
       "10853            Alfie    0.163592          26           6.2      114   \n",
       "10854        The Chase    0.146402          17           6.0      135   \n",
       "\n",
       "                                                    cast  \\\n",
       "1133   Danielle Chuchran|Kevin Sorbo|Rocky Myers|Ruby...   \n",
       "1194   Jaime Pressly|Kylie Rogers|Tobin Bell|Patrick ...   \n",
       "1349   Jane Fonda|Vanessa Redgrave|Jason Robards|Maxi...   \n",
       "1440   Tobey Maguire|Jake Gyllenhaal|Natalie Portman|...   \n",
       "1513   Glenn Close|Yann Arthus-Bertrand|Jacques Gambl...   \n",
       "...                                                  ...   \n",
       "10818  John Hargreaves|Briony Behets|Mike McEwen|Roy ...   \n",
       "10827  Adam West|Burt Ward|Cesar Romero|Burgess Mered...   \n",
       "10849  Michael Caine|Shirley MacLaine|Herbert Lom|Joh...   \n",
       "10853  Michael Caine|Shelley Winters|Millicent Martin...   \n",
       "10854  Marlon Brando|Jane Fonda|Robert Redford|E.G. M...   \n",
       "\n",
       "                   director                                         genres  \\\n",
       "1133              John Lyde                 Science Fiction|Action|Fantasy   \n",
       "1194       Alexander Yellen                        Mystery|Thriller|Horror   \n",
       "1349         Fred Zinnemann                                          Drama   \n",
       "1440           Jim Sheridan                             Drama|Thriller|War   \n",
       "1513   Yann Arthus-Bertrand                                    Documentary   \n",
       "...                     ...                                            ...   \n",
       "10818       Colin Eggleston                        Horror|Thriller|Mystery   \n",
       "10827   Leslie H. Martinson  Family|Adventure|Comedy|Science Fiction|Crime   \n",
       "10849          Ronald Neame                            Action|Comedy|Crime   \n",
       "10853         Lewis Gilbert                           Comedy|Drama|Romance   \n",
       "10854           Arthur Penn                           Thriller|Drama|Crime   \n",
       "\n",
       "         budget_adj   revenue_adj  release_year  \n",
       "1133   0.000000e+00  0.000000e+00          2014  \n",
       "1194   0.000000e+00  0.000000e+00          2014  \n",
       "1349   0.000000e+00  0.000000e+00          1977  \n",
       "1440   2.642641e+07  4.402879e+07          2009  \n",
       "1513   0.000000e+00  0.000000e+00          2009  \n",
       "...             ...           ...           ...  \n",
       "10818  0.000000e+00  0.000000e+00          1978  \n",
       "10827  9.256081e+06  0.000000e+00          1966  \n",
       "10849  0.000000e+00  0.000000e+00          1966  \n",
       "10853  0.000000e+00  0.000000e+00          1966  \n",
       "10854  0.000000e+00  0.000000e+00          1966  \n",
       "\n",
       "[292 rows x 11 columns]"
      ]
     },
     "execution_count": 17,
     "metadata": {},
     "output_type": "execute_result"
    }
   ],
   "source": [
    "# check for duplicated values in (original title) column\n",
    "df[df['original_title'].duplicated()]"
   ]
  },
  {
   "cell_type": "code",
   "execution_count": 18,
   "metadata": {},
   "outputs": [
    {
     "data": {
      "text/html": [
       "<div>\n",
       "<style scoped>\n",
       "    .dataframe tbody tr th:only-of-type {\n",
       "        vertical-align: middle;\n",
       "    }\n",
       "\n",
       "    .dataframe tbody tr th {\n",
       "        vertical-align: top;\n",
       "    }\n",
       "\n",
       "    .dataframe thead th {\n",
       "        text-align: right;\n",
       "    }\n",
       "</style>\n",
       "<table border=\"1\" class=\"dataframe\">\n",
       "  <thead>\n",
       "    <tr style=\"text-align: right;\">\n",
       "      <th></th>\n",
       "      <th>original_title</th>\n",
       "      <th>popularity</th>\n",
       "      <th>vote_count</th>\n",
       "      <th>vote_average</th>\n",
       "      <th>runtime</th>\n",
       "      <th>cast</th>\n",
       "      <th>director</th>\n",
       "      <th>genres</th>\n",
       "      <th>budget_adj</th>\n",
       "      <th>revenue_adj</th>\n",
       "      <th>release_year</th>\n",
       "    </tr>\n",
       "  </thead>\n",
       "  <tbody>\n",
       "    <tr>\n",
       "      <th>1156</th>\n",
       "      <td>Julia</td>\n",
       "      <td>0.240776</td>\n",
       "      <td>17</td>\n",
       "      <td>4.8</td>\n",
       "      <td>95</td>\n",
       "      <td>Ashley C. Williams|Tahyna Tozzi|Jack Noseworth...</td>\n",
       "      <td>Matthew A. Brown</td>\n",
       "      <td>Thriller|Horror</td>\n",
       "      <td>0.000000e+00</td>\n",
       "      <td>2.496157e+03</td>\n",
       "      <td>2014</td>\n",
       "    </tr>\n",
       "    <tr>\n",
       "      <th>1349</th>\n",
       "      <td>Julia</td>\n",
       "      <td>0.398651</td>\n",
       "      <td>10</td>\n",
       "      <td>5.0</td>\n",
       "      <td>117</td>\n",
       "      <td>Jane Fonda|Vanessa Redgrave|Jason Robards|Maxi...</td>\n",
       "      <td>Fred Zinnemann</td>\n",
       "      <td>Drama</td>\n",
       "      <td>0.000000e+00</td>\n",
       "      <td>0.000000e+00</td>\n",
       "      <td>1977</td>\n",
       "    </tr>\n",
       "    <tr>\n",
       "      <th>3272</th>\n",
       "      <td>Julia</td>\n",
       "      <td>0.281186</td>\n",
       "      <td>10</td>\n",
       "      <td>7.1</td>\n",
       "      <td>138</td>\n",
       "      <td>Tilda Swinton|Kate del Castillo|Aidan Gould|Br...</td>\n",
       "      <td>Erick Zonca</td>\n",
       "      <td>Drama</td>\n",
       "      <td>6.076720e+06</td>\n",
       "      <td>1.316623e+06</td>\n",
       "      <td>2008</td>\n",
       "    </tr>\n",
       "  </tbody>\n",
       "</table>\n",
       "</div>"
      ],
      "text/plain": [
       "     original_title  popularity  vote_count  vote_average  runtime  \\\n",
       "1156          Julia    0.240776          17           4.8       95   \n",
       "1349          Julia    0.398651          10           5.0      117   \n",
       "3272          Julia    0.281186          10           7.1      138   \n",
       "\n",
       "                                                   cast          director  \\\n",
       "1156  Ashley C. Williams|Tahyna Tozzi|Jack Noseworth...  Matthew A. Brown   \n",
       "1349  Jane Fonda|Vanessa Redgrave|Jason Robards|Maxi...    Fred Zinnemann   \n",
       "3272  Tilda Swinton|Kate del Castillo|Aidan Gould|Br...       Erick Zonca   \n",
       "\n",
       "               genres    budget_adj   revenue_adj  release_year  \n",
       "1156  Thriller|Horror  0.000000e+00  2.496157e+03          2014  \n",
       "1349            Drama  0.000000e+00  0.000000e+00          1977  \n",
       "3272            Drama  6.076720e+06  1.316623e+06          2008  "
      ]
     },
     "execution_count": 18,
     "metadata": {},
     "output_type": "execute_result"
    }
   ],
   "source": [
    "df.query(\"original_title == 'Julia'\")"
   ]
  },
  {
   "cell_type": "code",
   "execution_count": 19,
   "metadata": {},
   "outputs": [
    {
     "data": {
      "text/html": [
       "<div>\n",
       "<style scoped>\n",
       "    .dataframe tbody tr th:only-of-type {\n",
       "        vertical-align: middle;\n",
       "    }\n",
       "\n",
       "    .dataframe tbody tr th {\n",
       "        vertical-align: top;\n",
       "    }\n",
       "\n",
       "    .dataframe thead th {\n",
       "        text-align: right;\n",
       "    }\n",
       "</style>\n",
       "<table border=\"1\" class=\"dataframe\">\n",
       "  <thead>\n",
       "    <tr style=\"text-align: right;\">\n",
       "      <th></th>\n",
       "      <th>original_title</th>\n",
       "      <th>popularity</th>\n",
       "      <th>vote_count</th>\n",
       "      <th>vote_average</th>\n",
       "      <th>runtime</th>\n",
       "      <th>cast</th>\n",
       "      <th>director</th>\n",
       "      <th>genres</th>\n",
       "      <th>budget_adj</th>\n",
       "      <th>revenue_adj</th>\n",
       "      <th>release_year</th>\n",
       "    </tr>\n",
       "  </thead>\n",
       "  <tbody>\n",
       "    <tr>\n",
       "      <th>67</th>\n",
       "      <td>Survivor</td>\n",
       "      <td>2.331636</td>\n",
       "      <td>280</td>\n",
       "      <td>5.4</td>\n",
       "      <td>96</td>\n",
       "      <td>Pierce Brosnan|Milla Jovovich|Dylan McDermott|...</td>\n",
       "      <td>James McTeigue</td>\n",
       "      <td>Crime|Thriller|Action</td>\n",
       "      <td>1.839999e+07</td>\n",
       "      <td>0.0</td>\n",
       "      <td>2015</td>\n",
       "    </tr>\n",
       "    <tr>\n",
       "      <th>1133</th>\n",
       "      <td>Survivor</td>\n",
       "      <td>0.188264</td>\n",
       "      <td>23</td>\n",
       "      <td>4.9</td>\n",
       "      <td>93</td>\n",
       "      <td>Danielle Chuchran|Kevin Sorbo|Rocky Myers|Ruby...</td>\n",
       "      <td>John Lyde</td>\n",
       "      <td>Science Fiction|Action|Fantasy</td>\n",
       "      <td>0.000000e+00</td>\n",
       "      <td>0.0</td>\n",
       "      <td>2014</td>\n",
       "    </tr>\n",
       "  </tbody>\n",
       "</table>\n",
       "</div>"
      ],
      "text/plain": [
       "     original_title  popularity  vote_count  vote_average  runtime  \\\n",
       "67         Survivor    2.331636         280           5.4       96   \n",
       "1133       Survivor    0.188264          23           4.9       93   \n",
       "\n",
       "                                                   cast        director  \\\n",
       "67    Pierce Brosnan|Milla Jovovich|Dylan McDermott|...  James McTeigue   \n",
       "1133  Danielle Chuchran|Kevin Sorbo|Rocky Myers|Ruby...       John Lyde   \n",
       "\n",
       "                              genres    budget_adj  revenue_adj  release_year  \n",
       "67             Crime|Thriller|Action  1.839999e+07          0.0          2015  \n",
       "1133  Science Fiction|Action|Fantasy  0.000000e+00          0.0          2014  "
      ]
     },
     "execution_count": 19,
     "metadata": {},
     "output_type": "execute_result"
    }
   ],
   "source": [
    "df.query(\"original_title == 'Survivor'\")"
   ]
  },
  {
   "cell_type": "markdown",
   "metadata": {},
   "source": [
    "#### No need to do thing in the duplicate movies because it's a different movies with same names "
   ]
  },
  {
   "cell_type": "code",
   "execution_count": 20,
   "metadata": {},
   "outputs": [
    {
     "data": {
      "text/html": [
       "<div>\n",
       "<style scoped>\n",
       "    .dataframe tbody tr th:only-of-type {\n",
       "        vertical-align: middle;\n",
       "    }\n",
       "\n",
       "    .dataframe tbody tr th {\n",
       "        vertical-align: top;\n",
       "    }\n",
       "\n",
       "    .dataframe thead th {\n",
       "        text-align: right;\n",
       "    }\n",
       "</style>\n",
       "<table border=\"1\" class=\"dataframe\">\n",
       "  <thead>\n",
       "    <tr style=\"text-align: right;\">\n",
       "      <th></th>\n",
       "      <th>original_title</th>\n",
       "      <th>popularity</th>\n",
       "      <th>vote_count</th>\n",
       "      <th>vote_average</th>\n",
       "      <th>runtime</th>\n",
       "      <th>cast</th>\n",
       "      <th>director</th>\n",
       "      <th>genres</th>\n",
       "      <th>budget_adj</th>\n",
       "      <th>revenue_adj</th>\n",
       "      <th>release_year</th>\n",
       "    </tr>\n",
       "  </thead>\n",
       "  <tbody>\n",
       "    <tr>\n",
       "      <th>0</th>\n",
       "      <td>Jurassic World</td>\n",
       "      <td>32.985763</td>\n",
       "      <td>5562</td>\n",
       "      <td>6.5</td>\n",
       "      <td>124</td>\n",
       "      <td>Chris Pratt|Bryce Dallas Howard|Irrfan Khan|Vi...</td>\n",
       "      <td>Colin Trevorrow</td>\n",
       "      <td>Action|Adventure|Science Fiction|Thriller</td>\n",
       "      <td>1.379999e+08</td>\n",
       "      <td>1.392446e+09</td>\n",
       "      <td>2015</td>\n",
       "    </tr>\n",
       "    <tr>\n",
       "      <th>1</th>\n",
       "      <td>Mad Max: Fury Road</td>\n",
       "      <td>28.419936</td>\n",
       "      <td>6185</td>\n",
       "      <td>7.1</td>\n",
       "      <td>120</td>\n",
       "      <td>Tom Hardy|Charlize Theron|Hugh Keays-Byrne|Nic...</td>\n",
       "      <td>George Miller</td>\n",
       "      <td>Action|Adventure|Science Fiction|Thriller</td>\n",
       "      <td>1.379999e+08</td>\n",
       "      <td>3.481613e+08</td>\n",
       "      <td>2015</td>\n",
       "    </tr>\n",
       "    <tr>\n",
       "      <th>2</th>\n",
       "      <td>Insurgent</td>\n",
       "      <td>13.112507</td>\n",
       "      <td>2480</td>\n",
       "      <td>6.3</td>\n",
       "      <td>119</td>\n",
       "      <td>Shailene Woodley|Theo James|Kate Winslet|Ansel...</td>\n",
       "      <td>Robert Schwentke</td>\n",
       "      <td>Adventure|Science Fiction|Thriller</td>\n",
       "      <td>1.012000e+08</td>\n",
       "      <td>2.716190e+08</td>\n",
       "      <td>2015</td>\n",
       "    </tr>\n",
       "    <tr>\n",
       "      <th>3</th>\n",
       "      <td>Star Wars: The Force Awakens</td>\n",
       "      <td>11.173104</td>\n",
       "      <td>5292</td>\n",
       "      <td>7.5</td>\n",
       "      <td>136</td>\n",
       "      <td>Harrison Ford|Mark Hamill|Carrie Fisher|Adam D...</td>\n",
       "      <td>J.J. Abrams</td>\n",
       "      <td>Action|Adventure|Science Fiction|Fantasy</td>\n",
       "      <td>1.839999e+08</td>\n",
       "      <td>1.902723e+09</td>\n",
       "      <td>2015</td>\n",
       "    </tr>\n",
       "    <tr>\n",
       "      <th>4</th>\n",
       "      <td>Furious 7</td>\n",
       "      <td>9.335014</td>\n",
       "      <td>2947</td>\n",
       "      <td>7.3</td>\n",
       "      <td>137</td>\n",
       "      <td>Vin Diesel|Paul Walker|Jason Statham|Michelle ...</td>\n",
       "      <td>James Wan</td>\n",
       "      <td>Action|Crime|Thriller</td>\n",
       "      <td>1.747999e+08</td>\n",
       "      <td>1.385749e+09</td>\n",
       "      <td>2015</td>\n",
       "    </tr>\n",
       "  </tbody>\n",
       "</table>\n",
       "</div>"
      ],
      "text/plain": [
       "                 original_title  popularity  vote_count  vote_average  \\\n",
       "0                Jurassic World   32.985763        5562           6.5   \n",
       "1            Mad Max: Fury Road   28.419936        6185           7.1   \n",
       "2                     Insurgent   13.112507        2480           6.3   \n",
       "3  Star Wars: The Force Awakens   11.173104        5292           7.5   \n",
       "4                     Furious 7    9.335014        2947           7.3   \n",
       "\n",
       "   runtime                                               cast  \\\n",
       "0      124  Chris Pratt|Bryce Dallas Howard|Irrfan Khan|Vi...   \n",
       "1      120  Tom Hardy|Charlize Theron|Hugh Keays-Byrne|Nic...   \n",
       "2      119  Shailene Woodley|Theo James|Kate Winslet|Ansel...   \n",
       "3      136  Harrison Ford|Mark Hamill|Carrie Fisher|Adam D...   \n",
       "4      137  Vin Diesel|Paul Walker|Jason Statham|Michelle ...   \n",
       "\n",
       "           director                                     genres    budget_adj  \\\n",
       "0   Colin Trevorrow  Action|Adventure|Science Fiction|Thriller  1.379999e+08   \n",
       "1     George Miller  Action|Adventure|Science Fiction|Thriller  1.379999e+08   \n",
       "2  Robert Schwentke         Adventure|Science Fiction|Thriller  1.012000e+08   \n",
       "3       J.J. Abrams   Action|Adventure|Science Fiction|Fantasy  1.839999e+08   \n",
       "4         James Wan                      Action|Crime|Thriller  1.747999e+08   \n",
       "\n",
       "    revenue_adj  release_year  \n",
       "0  1.392446e+09          2015  \n",
       "1  3.481613e+08          2015  \n",
       "2  2.716190e+08          2015  \n",
       "3  1.902723e+09          2015  \n",
       "4  1.385749e+09          2015  "
      ]
     },
     "execution_count": 20,
     "metadata": {},
     "output_type": "execute_result"
    }
   ],
   "source": [
    "df.head()"
   ]
  },
  {
   "cell_type": "code",
   "execution_count": 21,
   "metadata": {},
   "outputs": [
    {
     "data": {
      "text/html": [
       "<div>\n",
       "<style scoped>\n",
       "    .dataframe tbody tr th:only-of-type {\n",
       "        vertical-align: middle;\n",
       "    }\n",
       "\n",
       "    .dataframe tbody tr th {\n",
       "        vertical-align: top;\n",
       "    }\n",
       "\n",
       "    .dataframe thead th {\n",
       "        text-align: right;\n",
       "    }\n",
       "</style>\n",
       "<table border=\"1\" class=\"dataframe\">\n",
       "  <thead>\n",
       "    <tr style=\"text-align: right;\">\n",
       "      <th></th>\n",
       "      <th>popularity</th>\n",
       "      <th>vote_count</th>\n",
       "      <th>vote_average</th>\n",
       "      <th>runtime</th>\n",
       "      <th>budget_adj</th>\n",
       "      <th>revenue_adj</th>\n",
       "      <th>release_year</th>\n",
       "    </tr>\n",
       "  </thead>\n",
       "  <tbody>\n",
       "    <tr>\n",
       "      <th>count</th>\n",
       "      <td>10731.000000</td>\n",
       "      <td>10731.000000</td>\n",
       "      <td>10731.000000</td>\n",
       "      <td>10731.000000</td>\n",
       "      <td>1.073100e+04</td>\n",
       "      <td>1.073100e+04</td>\n",
       "      <td>10731.000000</td>\n",
       "    </tr>\n",
       "    <tr>\n",
       "      <th>mean</th>\n",
       "      <td>0.652615</td>\n",
       "      <td>219.812972</td>\n",
       "      <td>5.964710</td>\n",
       "      <td>102.468829</td>\n",
       "      <td>1.776530e+07</td>\n",
       "      <td>5.200623e+07</td>\n",
       "      <td>2001.259622</td>\n",
       "    </tr>\n",
       "    <tr>\n",
       "      <th>std</th>\n",
       "      <td>1.004804</td>\n",
       "      <td>578.815324</td>\n",
       "      <td>0.930283</td>\n",
       "      <td>30.493873</td>\n",
       "      <td>3.446630e+07</td>\n",
       "      <td>1.454252e+08</td>\n",
       "      <td>12.820151</td>\n",
       "    </tr>\n",
       "    <tr>\n",
       "      <th>min</th>\n",
       "      <td>0.000188</td>\n",
       "      <td>10.000000</td>\n",
       "      <td>1.500000</td>\n",
       "      <td>0.000000</td>\n",
       "      <td>0.000000e+00</td>\n",
       "      <td>0.000000e+00</td>\n",
       "      <td>1960.000000</td>\n",
       "    </tr>\n",
       "    <tr>\n",
       "      <th>25%</th>\n",
       "      <td>0.210765</td>\n",
       "      <td>17.000000</td>\n",
       "      <td>5.400000</td>\n",
       "      <td>90.000000</td>\n",
       "      <td>0.000000e+00</td>\n",
       "      <td>0.000000e+00</td>\n",
       "      <td>1995.000000</td>\n",
       "    </tr>\n",
       "    <tr>\n",
       "      <th>50%</th>\n",
       "      <td>0.387081</td>\n",
       "      <td>39.000000</td>\n",
       "      <td>6.000000</td>\n",
       "      <td>99.000000</td>\n",
       "      <td>0.000000e+00</td>\n",
       "      <td>0.000000e+00</td>\n",
       "      <td>2006.000000</td>\n",
       "    </tr>\n",
       "    <tr>\n",
       "      <th>75%</th>\n",
       "      <td>0.720889</td>\n",
       "      <td>148.000000</td>\n",
       "      <td>6.600000</td>\n",
       "      <td>112.000000</td>\n",
       "      <td>2.110885e+07</td>\n",
       "      <td>3.470546e+07</td>\n",
       "      <td>2011.000000</td>\n",
       "    </tr>\n",
       "    <tr>\n",
       "      <th>max</th>\n",
       "      <td>32.985763</td>\n",
       "      <td>9767.000000</td>\n",
       "      <td>9.200000</td>\n",
       "      <td>900.000000</td>\n",
       "      <td>4.250000e+08</td>\n",
       "      <td>2.827124e+09</td>\n",
       "      <td>2015.000000</td>\n",
       "    </tr>\n",
       "  </tbody>\n",
       "</table>\n",
       "</div>"
      ],
      "text/plain": [
       "         popularity    vote_count  vote_average       runtime    budget_adj  \\\n",
       "count  10731.000000  10731.000000  10731.000000  10731.000000  1.073100e+04   \n",
       "mean       0.652615    219.812972      5.964710    102.468829  1.776530e+07   \n",
       "std        1.004804    578.815324      0.930283     30.493873  3.446630e+07   \n",
       "min        0.000188     10.000000      1.500000      0.000000  0.000000e+00   \n",
       "25%        0.210765     17.000000      5.400000     90.000000  0.000000e+00   \n",
       "50%        0.387081     39.000000      6.000000     99.000000  0.000000e+00   \n",
       "75%        0.720889    148.000000      6.600000    112.000000  2.110885e+07   \n",
       "max       32.985763   9767.000000      9.200000    900.000000  4.250000e+08   \n",
       "\n",
       "        revenue_adj  release_year  \n",
       "count  1.073100e+04  10731.000000  \n",
       "mean   5.200623e+07   2001.259622  \n",
       "std    1.454252e+08     12.820151  \n",
       "min    0.000000e+00   1960.000000  \n",
       "25%    0.000000e+00   1995.000000  \n",
       "50%    0.000000e+00   2006.000000  \n",
       "75%    3.470546e+07   2011.000000  \n",
       "max    2.827124e+09   2015.000000  "
      ]
     },
     "execution_count": 21,
     "metadata": {},
     "output_type": "execute_result"
    }
   ],
   "source": [
    "df.describe()"
   ]
  },
  {
   "cell_type": "code",
   "execution_count": 22,
   "metadata": {},
   "outputs": [],
   "source": [
    "# Issue(5)\n",
    "df_zero_bud =df[df['budget_adj']==0].index\n",
    "df.drop(df_zero_bud,axis=0,inplace=True)\n",
    "\n",
    "df_zero_rev =df[df['revenue_adj']==0].index\n",
    "df.drop(df_zero_rev,axis=0,inplace=True)\n",
    "\n",
    "df_zero_time =df[df['runtime']==0].index\n",
    "df.drop(df_zero_time,axis=0,inplace=True)"
   ]
  },
  {
   "cell_type": "code",
   "execution_count": 23,
   "metadata": {},
   "outputs": [
    {
     "data": {
      "text/html": [
       "<div>\n",
       "<style scoped>\n",
       "    .dataframe tbody tr th:only-of-type {\n",
       "        vertical-align: middle;\n",
       "    }\n",
       "\n",
       "    .dataframe tbody tr th {\n",
       "        vertical-align: top;\n",
       "    }\n",
       "\n",
       "    .dataframe thead th {\n",
       "        text-align: right;\n",
       "    }\n",
       "</style>\n",
       "<table border=\"1\" class=\"dataframe\">\n",
       "  <thead>\n",
       "    <tr style=\"text-align: right;\">\n",
       "      <th></th>\n",
       "      <th>popularity</th>\n",
       "      <th>vote_count</th>\n",
       "      <th>vote_average</th>\n",
       "      <th>runtime</th>\n",
       "      <th>budget_adj</th>\n",
       "      <th>revenue_adj</th>\n",
       "      <th>release_year</th>\n",
       "    </tr>\n",
       "  </thead>\n",
       "  <tbody>\n",
       "    <tr>\n",
       "      <th>count</th>\n",
       "      <td>3849.000000</td>\n",
       "      <td>3849.000000</td>\n",
       "      <td>3849.000000</td>\n",
       "      <td>3849.000000</td>\n",
       "      <td>3.849000e+03</td>\n",
       "      <td>3.849000e+03</td>\n",
       "      <td>3849.000000</td>\n",
       "    </tr>\n",
       "    <tr>\n",
       "      <th>mean</th>\n",
       "      <td>1.192933</td>\n",
       "      <td>528.387114</td>\n",
       "      <td>6.168693</td>\n",
       "      <td>109.217459</td>\n",
       "      <td>4.429360e+07</td>\n",
       "      <td>1.372313e+08</td>\n",
       "      <td>2001.258249</td>\n",
       "    </tr>\n",
       "    <tr>\n",
       "      <th>std</th>\n",
       "      <td>1.475622</td>\n",
       "      <td>880.333629</td>\n",
       "      <td>0.794697</td>\n",
       "      <td>19.914141</td>\n",
       "      <td>4.481360e+07</td>\n",
       "      <td>2.162018e+08</td>\n",
       "      <td>11.285642</td>\n",
       "    </tr>\n",
       "    <tr>\n",
       "      <th>min</th>\n",
       "      <td>0.001117</td>\n",
       "      <td>10.000000</td>\n",
       "      <td>2.200000</td>\n",
       "      <td>15.000000</td>\n",
       "      <td>9.693980e-01</td>\n",
       "      <td>2.370705e+00</td>\n",
       "      <td>1960.000000</td>\n",
       "    </tr>\n",
       "    <tr>\n",
       "      <th>25%</th>\n",
       "      <td>0.463337</td>\n",
       "      <td>71.000000</td>\n",
       "      <td>5.700000</td>\n",
       "      <td>95.000000</td>\n",
       "      <td>1.316623e+07</td>\n",
       "      <td>1.843023e+07</td>\n",
       "      <td>1995.000000</td>\n",
       "    </tr>\n",
       "    <tr>\n",
       "      <th>50%</th>\n",
       "      <td>0.798582</td>\n",
       "      <td>205.000000</td>\n",
       "      <td>6.200000</td>\n",
       "      <td>106.000000</td>\n",
       "      <td>3.005030e+07</td>\n",
       "      <td>6.181393e+07</td>\n",
       "      <td>2004.000000</td>\n",
       "    </tr>\n",
       "    <tr>\n",
       "      <th>75%</th>\n",
       "      <td>1.374300</td>\n",
       "      <td>581.000000</td>\n",
       "      <td>6.700000</td>\n",
       "      <td>119.000000</td>\n",
       "      <td>6.076720e+07</td>\n",
       "      <td>1.634115e+08</td>\n",
       "      <td>2010.000000</td>\n",
       "    </tr>\n",
       "    <tr>\n",
       "      <th>max</th>\n",
       "      <td>32.985763</td>\n",
       "      <td>9767.000000</td>\n",
       "      <td>8.400000</td>\n",
       "      <td>338.000000</td>\n",
       "      <td>4.250000e+08</td>\n",
       "      <td>2.827124e+09</td>\n",
       "      <td>2015.000000</td>\n",
       "    </tr>\n",
       "  </tbody>\n",
       "</table>\n",
       "</div>"
      ],
      "text/plain": [
       "        popularity   vote_count  vote_average      runtime    budget_adj  \\\n",
       "count  3849.000000  3849.000000   3849.000000  3849.000000  3.849000e+03   \n",
       "mean      1.192933   528.387114      6.168693   109.217459  4.429360e+07   \n",
       "std       1.475622   880.333629      0.794697    19.914141  4.481360e+07   \n",
       "min       0.001117    10.000000      2.200000    15.000000  9.693980e-01   \n",
       "25%       0.463337    71.000000      5.700000    95.000000  1.316623e+07   \n",
       "50%       0.798582   205.000000      6.200000   106.000000  3.005030e+07   \n",
       "75%       1.374300   581.000000      6.700000   119.000000  6.076720e+07   \n",
       "max      32.985763  9767.000000      8.400000   338.000000  4.250000e+08   \n",
       "\n",
       "        revenue_adj  release_year  \n",
       "count  3.849000e+03   3849.000000  \n",
       "mean   1.372313e+08   2001.258249  \n",
       "std    2.162018e+08     11.285642  \n",
       "min    2.370705e+00   1960.000000  \n",
       "25%    1.843023e+07   1995.000000  \n",
       "50%    6.181393e+07   2004.000000  \n",
       "75%    1.634115e+08   2010.000000  \n",
       "max    2.827124e+09   2015.000000  "
      ]
     },
     "execution_count": 23,
     "metadata": {},
     "output_type": "execute_result"
    }
   ],
   "source": [
    "df.describe()"
   ]
  },
  {
   "cell_type": "markdown",
   "metadata": {},
   "source": [
    "<a id='eda'></a>\n",
    "## Exploratory Data Analysis\n"
   ]
  },
  {
   "cell_type": "code",
   "execution_count": 24,
   "metadata": {
    "scrolled": false
   },
   "outputs": [
    {
     "data": {
      "image/png": "[encoded data removed]",
      "text/plain": [
       "<Figure size 1152x1008 with 9 Axes>"
      ]
     },
     "metadata": {
      "needs_background": "light"
     },
     "output_type": "display_data"
    }
   ],
   "source": [
    "df.hist(figsize= (16,14));\n"
   ]
  },
  {
   "cell_type": "code",
   "execution_count": 25,
   "metadata": {},
   "outputs": [],
   "source": [
    "def display_barplot_description (variable, xlabel, ylabel, title):\n",
    "    \"\"\" Create a Histogram & show the description for one variable.\n",
    "    Input:\n",
    "    1. Variable : the name of the research column \n",
    "    2. Xlabel   : the x axis name\n",
    "    3. ylabel   : the y axis name\n",
    "    4. title    : the bar chart title\n",
    "    Output:\n",
    "    1. variable Bar chart \n",
    "    2. variable description \"\"\"\n",
    "    bar = df[variable].hist()\n",
    "    head = plt.title(title)\n",
    "    x = plt.xlabel(xlabel)\n",
    "    y = plt.ylabel(ylabel);\n",
    "    des = df[variable].describe()\n",
    "    return \"The description \",des,\"The bar chart for {}\".format(variable)"
   ]
  },
  {
   "cell_type": "markdown",
   "metadata": {},
   "source": [
    "### Research Question 1 ( The most popular movie & the less popular movie?)"
   ]
  },
  {
   "cell_type": "code",
   "execution_count": 26,
   "metadata": {},
   "outputs": [
    {
     "data": {
      "text/plain": [
       "('The description ',\n",
       " count    3849.000000\n",
       " mean        1.192933\n",
       " std         1.475622\n",
       " min         0.001117\n",
       " 25%         0.463337\n",
       " 50%         0.798582\n",
       " 75%         1.374300\n",
       " max        32.985763\n",
       " Name: popularity, dtype: float64,\n",
       " 'The bar chart for popularity')"
      ]
     },
     "execution_count": 26,
     "metadata": {},
     "output_type": "execute_result"
    },
    {
     "data": {
      "image/png": "[encoded data removed]",
      "text/plain": [
       "<Figure size 432x288 with 1 Axes>"
      ]
     },
     "metadata": {
      "needs_background": "light"
     },
     "output_type": "display_data"
    }
   ],
   "source": [
    "display_barplot_description ('popularity','popularity','numbers','The popularity Distribution' )"
   ]
  },
  {
   "cell_type": "code",
   "execution_count": 27,
   "metadata": {},
   "outputs": [
    {
     "data": {
      "text/html": [
       "<div>\n",
       "<style scoped>\n",
       "    .dataframe tbody tr th:only-of-type {\n",
       "        vertical-align: middle;\n",
       "    }\n",
       "\n",
       "    .dataframe tbody tr th {\n",
       "        vertical-align: top;\n",
       "    }\n",
       "\n",
       "    .dataframe thead th {\n",
       "        text-align: right;\n",
       "    }\n",
       "</style>\n",
       "<table border=\"1\" class=\"dataframe\">\n",
       "  <thead>\n",
       "    <tr style=\"text-align: right;\">\n",
       "      <th></th>\n",
       "      <th>original_title</th>\n",
       "      <th>popularity</th>\n",
       "      <th>vote_count</th>\n",
       "      <th>vote_average</th>\n",
       "      <th>runtime</th>\n",
       "      <th>cast</th>\n",
       "      <th>director</th>\n",
       "      <th>genres</th>\n",
       "      <th>budget_adj</th>\n",
       "      <th>revenue_adj</th>\n",
       "      <th>release_year</th>\n",
       "    </tr>\n",
       "  </thead>\n",
       "  <tbody>\n",
       "    <tr>\n",
       "      <th>0</th>\n",
       "      <td>Jurassic World</td>\n",
       "      <td>32.985763</td>\n",
       "      <td>5562</td>\n",
       "      <td>6.5</td>\n",
       "      <td>124</td>\n",
       "      <td>Chris Pratt|Bryce Dallas Howard|Irrfan Khan|Vi...</td>\n",
       "      <td>Colin Trevorrow</td>\n",
       "      <td>Action|Adventure|Science Fiction|Thriller</td>\n",
       "      <td>1.379999e+08</td>\n",
       "      <td>1.392446e+09</td>\n",
       "      <td>2015</td>\n",
       "    </tr>\n",
       "  </tbody>\n",
       "</table>\n",
       "</div>"
      ],
      "text/plain": [
       "   original_title  popularity  vote_count  vote_average  runtime  \\\n",
       "0  Jurassic World   32.985763        5562           6.5      124   \n",
       "\n",
       "                                                cast         director  \\\n",
       "0  Chris Pratt|Bryce Dallas Howard|Irrfan Khan|Vi...  Colin Trevorrow   \n",
       "\n",
       "                                      genres    budget_adj   revenue_adj  \\\n",
       "0  Action|Adventure|Science Fiction|Thriller  1.379999e+08  1.392446e+09   \n",
       "\n",
       "   release_year  \n",
       "0          2015  "
      ]
     },
     "execution_count": 27,
     "metadata": {},
     "output_type": "execute_result"
    }
   ],
   "source": [
    "df.query(\"popularity == 32.985763 \")"
   ]
  },
  {
   "cell_type": "code",
   "execution_count": 28,
   "metadata": {},
   "outputs": [
    {
     "data": {
      "text/html": [
       "<div>\n",
       "<style scoped>\n",
       "    .dataframe tbody tr th:only-of-type {\n",
       "        vertical-align: middle;\n",
       "    }\n",
       "\n",
       "    .dataframe tbody tr th {\n",
       "        vertical-align: top;\n",
       "    }\n",
       "\n",
       "    .dataframe thead th {\n",
       "        text-align: right;\n",
       "    }\n",
       "</style>\n",
       "<table border=\"1\" class=\"dataframe\">\n",
       "  <thead>\n",
       "    <tr style=\"text-align: right;\">\n",
       "      <th></th>\n",
       "      <th>original_title</th>\n",
       "      <th>popularity</th>\n",
       "      <th>vote_count</th>\n",
       "      <th>vote_average</th>\n",
       "      <th>runtime</th>\n",
       "      <th>cast</th>\n",
       "      <th>director</th>\n",
       "      <th>genres</th>\n",
       "      <th>budget_adj</th>\n",
       "      <th>revenue_adj</th>\n",
       "      <th>release_year</th>\n",
       "    </tr>\n",
       "  </thead>\n",
       "  <tbody>\n",
       "    <tr>\n",
       "      <th>7268</th>\n",
       "      <td>Born into Brothels</td>\n",
       "      <td>0.001117</td>\n",
       "      <td>23</td>\n",
       "      <td>6.4</td>\n",
       "      <td>85</td>\n",
       "      <td>Zana Briski|Avijit|Geeta Masi|Kochi|Mamuni</td>\n",
       "      <td>Zana Briski|Ross Kauffman</td>\n",
       "      <td>Documentary</td>\n",
       "      <td>404055.889934</td>\n",
       "      <td>4.057946e+06</td>\n",
       "      <td>2004</td>\n",
       "    </tr>\n",
       "  </tbody>\n",
       "</table>\n",
       "</div>"
      ],
      "text/plain": [
       "          original_title  popularity  vote_count  vote_average  runtime  \\\n",
       "7268  Born into Brothels    0.001117          23           6.4       85   \n",
       "\n",
       "                                            cast                   director  \\\n",
       "7268  Zana Briski|Avijit|Geeta Masi|Kochi|Mamuni  Zana Briski|Ross Kauffman   \n",
       "\n",
       "           genres     budget_adj   revenue_adj  release_year  \n",
       "7268  Documentary  404055.889934  4.057946e+06          2004  "
      ]
     },
     "execution_count": 28,
     "metadata": {},
     "output_type": "execute_result"
    }
   ],
   "source": [
    "df.query(\"popularity == 0.001117\")"
   ]
  },
  {
   "cell_type": "markdown",
   "metadata": {},
   "source": [
    "**Result** \n",
    "\n",
    "+ Jurassic World is the most popular movie with vote count 5562 & vote averange 6.5.\n",
    "+ Born into Brothels is the less popular movie with vote count 23 & vote average 6.4"
   ]
  },
  {
   "cell_type": "markdown",
   "metadata": {},
   "source": [
    "### Research Question 2 ( The highest cost movie ?)"
   ]
  },
  {
   "cell_type": "code",
   "execution_count": 29,
   "metadata": {},
   "outputs": [
    {
     "data": {
      "text/plain": [
       "('The description ',\n",
       " count    3.849000e+03\n",
       " mean     4.429360e+07\n",
       " std      4.481360e+07\n",
       " min      9.693980e-01\n",
       " 25%      1.316623e+07\n",
       " 50%      3.005030e+07\n",
       " 75%      6.076720e+07\n",
       " max      4.250000e+08\n",
       " Name: budget_adj, dtype: float64,\n",
       " 'The bar chart for budget_adj')"
      ]
     },
     "execution_count": 29,
     "metadata": {},
     "output_type": "execute_result"
    },
    {
     "data": {
      "image/png": "[encoded data removed]",
      "text/plain": [
       "<Figure size 432x288 with 1 Axes>"
      ]
     },
     "metadata": {
      "needs_background": "light"
     },
     "output_type": "display_data"
    }
   ],
   "source": [
    "display_barplot_description('budget_adj','budget_adj','Numbers','The Budget Distribution')"
   ]
  },
  {
   "cell_type": "code",
   "execution_count": 30,
   "metadata": {},
   "outputs": [
    {
     "data": {
      "text/html": [
       "<div>\n",
       "<style scoped>\n",
       "    .dataframe tbody tr th:only-of-type {\n",
       "        vertical-align: middle;\n",
       "    }\n",
       "\n",
       "    .dataframe tbody tr th {\n",
       "        vertical-align: top;\n",
       "    }\n",
       "\n",
       "    .dataframe thead th {\n",
       "        text-align: right;\n",
       "    }\n",
       "</style>\n",
       "<table border=\"1\" class=\"dataframe\">\n",
       "  <thead>\n",
       "    <tr style=\"text-align: right;\">\n",
       "      <th></th>\n",
       "      <th>original_title</th>\n",
       "      <th>popularity</th>\n",
       "      <th>vote_count</th>\n",
       "      <th>vote_average</th>\n",
       "      <th>runtime</th>\n",
       "      <th>cast</th>\n",
       "      <th>director</th>\n",
       "      <th>genres</th>\n",
       "      <th>budget_adj</th>\n",
       "      <th>revenue_adj</th>\n",
       "      <th>release_year</th>\n",
       "    </tr>\n",
       "  </thead>\n",
       "  <tbody>\n",
       "    <tr>\n",
       "      <th>2244</th>\n",
       "      <td>The Warrior's Way</td>\n",
       "      <td>0.25054</td>\n",
       "      <td>74</td>\n",
       "      <td>6.4</td>\n",
       "      <td>100</td>\n",
       "      <td>Kate Bosworth|Jang Dong-gun|Geoffrey Rush|Dann...</td>\n",
       "      <td>Sngmoo Lee</td>\n",
       "      <td>Adventure|Fantasy|Action|Western|Thriller</td>\n",
       "      <td>425000000.0</td>\n",
       "      <td>11087569.0</td>\n",
       "      <td>2010</td>\n",
       "    </tr>\n",
       "  </tbody>\n",
       "</table>\n",
       "</div>"
      ],
      "text/plain": [
       "         original_title  popularity  vote_count  vote_average  runtime  \\\n",
       "2244  The Warrior's Way     0.25054          74           6.4      100   \n",
       "\n",
       "                                                   cast    director  \\\n",
       "2244  Kate Bosworth|Jang Dong-gun|Geoffrey Rush|Dann...  Sngmoo Lee   \n",
       "\n",
       "                                         genres   budget_adj  revenue_adj  \\\n",
       "2244  Adventure|Fantasy|Action|Western|Thriller  425000000.0   11087569.0   \n",
       "\n",
       "      release_year  \n",
       "2244          2010  "
      ]
     },
     "execution_count": 30,
     "metadata": {},
     "output_type": "execute_result"
    }
   ],
   "source": [
    "df.query(\"budget_adj == 4.250000e+08\")"
   ]
  },
  {
   "cell_type": "markdown",
   "metadata": {},
   "source": [
    "**Result** The Warrior's Way is the highest cost movie"
   ]
  },
  {
   "cell_type": "markdown",
   "metadata": {},
   "source": [
    "### Research Question 3 ( The highest Revenue movie ?)"
   ]
  },
  {
   "cell_type": "code",
   "execution_count": 31,
   "metadata": {},
   "outputs": [
    {
     "data": {
      "text/plain": [
       "('The description ',\n",
       " count    3.849000e+03\n",
       " mean     1.372313e+08\n",
       " std      2.162018e+08\n",
       " min      2.370705e+00\n",
       " 25%      1.843023e+07\n",
       " 50%      6.181393e+07\n",
       " 75%      1.634115e+08\n",
       " max      2.827124e+09\n",
       " Name: revenue_adj, dtype: float64,\n",
       " 'The bar chart for revenue_adj')"
      ]
     },
     "execution_count": 31,
     "metadata": {},
     "output_type": "execute_result"
    },
    {
     "data": {
      "image/png": "[encoded data removed]",
      "text/plain": [
       "<Figure size 432x288 with 1 Axes>"
      ]
     },
     "metadata": {
      "needs_background": "light"
     },
     "output_type": "display_data"
    }
   ],
   "source": [
    "display_barplot_description('revenue_adj','revenue_adj','Num','The Revenu Distribution')"
   ]
  },
  {
   "cell_type": "code",
   "execution_count": 32,
   "metadata": {},
   "outputs": [
    {
     "data": {
      "text/html": [
       "<div>\n",
       "<style scoped>\n",
       "    .dataframe tbody tr th:only-of-type {\n",
       "        vertical-align: middle;\n",
       "    }\n",
       "\n",
       "    .dataframe tbody tr th {\n",
       "        vertical-align: top;\n",
       "    }\n",
       "\n",
       "    .dataframe thead th {\n",
       "        text-align: right;\n",
       "    }\n",
       "</style>\n",
       "<table border=\"1\" class=\"dataframe\">\n",
       "  <thead>\n",
       "    <tr style=\"text-align: right;\">\n",
       "      <th></th>\n",
       "      <th>original_title</th>\n",
       "      <th>popularity</th>\n",
       "      <th>vote_count</th>\n",
       "      <th>vote_average</th>\n",
       "      <th>runtime</th>\n",
       "      <th>cast</th>\n",
       "      <th>director</th>\n",
       "      <th>genres</th>\n",
       "      <th>budget_adj</th>\n",
       "      <th>revenue_adj</th>\n",
       "      <th>release_year</th>\n",
       "    </tr>\n",
       "  </thead>\n",
       "  <tbody>\n",
       "    <tr>\n",
       "      <th>1386</th>\n",
       "      <td>Avatar</td>\n",
       "      <td>9.432768</td>\n",
       "      <td>8458</td>\n",
       "      <td>7.1</td>\n",
       "      <td>162</td>\n",
       "      <td>Sam Worthington|Zoe Saldana|Sigourney Weaver|S...</td>\n",
       "      <td>James Cameron</td>\n",
       "      <td>Action|Adventure|Fantasy|Science Fiction</td>\n",
       "      <td>2.408869e+08</td>\n",
       "      <td>2.827124e+09</td>\n",
       "      <td>2009</td>\n",
       "    </tr>\n",
       "  </tbody>\n",
       "</table>\n",
       "</div>"
      ],
      "text/plain": [
       "     original_title  popularity  vote_count  vote_average  runtime  \\\n",
       "1386         Avatar    9.432768        8458           7.1      162   \n",
       "\n",
       "                                                   cast       director  \\\n",
       "1386  Sam Worthington|Zoe Saldana|Sigourney Weaver|S...  James Cameron   \n",
       "\n",
       "                                        genres    budget_adj   revenue_adj  \\\n",
       "1386  Action|Adventure|Fantasy|Science Fiction  2.408869e+08  2.827124e+09   \n",
       "\n",
       "      release_year  \n",
       "1386          2009  "
      ]
     },
     "execution_count": 32,
     "metadata": {},
     "output_type": "execute_result"
    }
   ],
   "source": [
    "df[df['revenue_adj'] == df['revenue_adj'].max()]"
   ]
  },
  {
   "cell_type": "markdown",
   "metadata": {},
   "source": [
    "**Result** Avatar is the highest revenue movie"
   ]
  },
  {
   "cell_type": "markdown",
   "metadata": {},
   "source": [
    "### Research Question 4 ( The highest Profit movie & the lowest profit movie ?)"
   ]
  },
  {
   "cell_type": "code",
   "execution_count": 33,
   "metadata": {},
   "outputs": [
    {
     "data": {
      "text/html": [
       "<div>\n",
       "<style scoped>\n",
       "    .dataframe tbody tr th:only-of-type {\n",
       "        vertical-align: middle;\n",
       "    }\n",
       "\n",
       "    .dataframe tbody tr th {\n",
       "        vertical-align: top;\n",
       "    }\n",
       "\n",
       "    .dataframe thead th {\n",
       "        text-align: right;\n",
       "    }\n",
       "</style>\n",
       "<table border=\"1\" class=\"dataframe\">\n",
       "  <thead>\n",
       "    <tr style=\"text-align: right;\">\n",
       "      <th></th>\n",
       "      <th>original_title</th>\n",
       "      <th>popularity</th>\n",
       "      <th>vote_count</th>\n",
       "      <th>vote_average</th>\n",
       "      <th>runtime</th>\n",
       "      <th>cast</th>\n",
       "      <th>director</th>\n",
       "      <th>genres</th>\n",
       "      <th>budget_adj</th>\n",
       "      <th>revenue_adj</th>\n",
       "      <th>release_year</th>\n",
       "      <th>profit</th>\n",
       "    </tr>\n",
       "  </thead>\n",
       "  <tbody>\n",
       "    <tr>\n",
       "      <th>0</th>\n",
       "      <td>Jurassic World</td>\n",
       "      <td>32.985763</td>\n",
       "      <td>5562</td>\n",
       "      <td>6.5</td>\n",
       "      <td>124</td>\n",
       "      <td>Chris Pratt|Bryce Dallas Howard|Irrfan Khan|Vi...</td>\n",
       "      <td>Colin Trevorrow</td>\n",
       "      <td>Action|Adventure|Science Fiction|Thriller</td>\n",
       "      <td>1.379999e+08</td>\n",
       "      <td>1.392446e+09</td>\n",
       "      <td>2015</td>\n",
       "      <td>1.254446e+09</td>\n",
       "    </tr>\n",
       "    <tr>\n",
       "      <th>1</th>\n",
       "      <td>Mad Max: Fury Road</td>\n",
       "      <td>28.419936</td>\n",
       "      <td>6185</td>\n",
       "      <td>7.1</td>\n",
       "      <td>120</td>\n",
       "      <td>Tom Hardy|Charlize Theron|Hugh Keays-Byrne|Nic...</td>\n",
       "      <td>George Miller</td>\n",
       "      <td>Action|Adventure|Science Fiction|Thriller</td>\n",
       "      <td>1.379999e+08</td>\n",
       "      <td>3.481613e+08</td>\n",
       "      <td>2015</td>\n",
       "      <td>2.101614e+08</td>\n",
       "    </tr>\n",
       "  </tbody>\n",
       "</table>\n",
       "</div>"
      ],
      "text/plain": [
       "       original_title  popularity  vote_count  vote_average  runtime  \\\n",
       "0      Jurassic World   32.985763        5562           6.5      124   \n",
       "1  Mad Max: Fury Road   28.419936        6185           7.1      120   \n",
       "\n",
       "                                                cast         director  \\\n",
       "0  Chris Pratt|Bryce Dallas Howard|Irrfan Khan|Vi...  Colin Trevorrow   \n",
       "1  Tom Hardy|Charlize Theron|Hugh Keays-Byrne|Nic...    George Miller   \n",
       "\n",
       "                                      genres    budget_adj   revenue_adj  \\\n",
       "0  Action|Adventure|Science Fiction|Thriller  1.379999e+08  1.392446e+09   \n",
       "1  Action|Adventure|Science Fiction|Thriller  1.379999e+08  3.481613e+08   \n",
       "\n",
       "   release_year        profit  \n",
       "0          2015  1.254446e+09  \n",
       "1          2015  2.101614e+08  "
      ]
     },
     "execution_count": 33,
     "metadata": {},
     "output_type": "execute_result"
    }
   ],
   "source": [
    "# Create a new column 'profit'\n",
    "df['profit'] = df['revenue_adj'] - df['budget_adj']\n",
    "df.head(2)"
   ]
  },
  {
   "cell_type": "code",
   "execution_count": 34,
   "metadata": {},
   "outputs": [
    {
     "data": {
      "text/plain": [
       "('The description ',\n",
       " count    3.849000e+03\n",
       " mean     9.293772e+07\n",
       " std      1.941716e+08\n",
       " min     -4.139124e+08\n",
       " 25%     -1.503317e+06\n",
       " 50%      2.745198e+07\n",
       " 75%      1.075480e+08\n",
       " max      2.750137e+09\n",
       " Name: profit, dtype: float64,\n",
       " 'The bar chart for profit')"
      ]
     },
     "execution_count": 34,
     "metadata": {},
     "output_type": "execute_result"
    },
    {
     "data": {
      "image/png": "[encoded data removed]",
      "text/plain": [
       "<Figure size 432x288 with 1 Axes>"
      ]
     },
     "metadata": {
      "needs_background": "light"
     },
     "output_type": "display_data"
    }
   ],
   "source": [
    "display_barplot_description('profit','profit','Num','The Profit Dis')"
   ]
  },
  {
   "cell_type": "code",
   "execution_count": 35,
   "metadata": {},
   "outputs": [
    {
     "data": {
      "text/html": [
       "<div>\n",
       "<style scoped>\n",
       "    .dataframe tbody tr th:only-of-type {\n",
       "        vertical-align: middle;\n",
       "    }\n",
       "\n",
       "    .dataframe tbody tr th {\n",
       "        vertical-align: top;\n",
       "    }\n",
       "\n",
       "    .dataframe thead th {\n",
       "        text-align: right;\n",
       "    }\n",
       "</style>\n",
       "<table border=\"1\" class=\"dataframe\">\n",
       "  <thead>\n",
       "    <tr style=\"text-align: right;\">\n",
       "      <th></th>\n",
       "      <th>original_title</th>\n",
       "      <th>popularity</th>\n",
       "      <th>vote_count</th>\n",
       "      <th>vote_average</th>\n",
       "      <th>runtime</th>\n",
       "      <th>cast</th>\n",
       "      <th>director</th>\n",
       "      <th>genres</th>\n",
       "      <th>budget_adj</th>\n",
       "      <th>revenue_adj</th>\n",
       "      <th>release_year</th>\n",
       "      <th>profit</th>\n",
       "    </tr>\n",
       "  </thead>\n",
       "  <tbody>\n",
       "    <tr>\n",
       "      <th>1329</th>\n",
       "      <td>Star Wars</td>\n",
       "      <td>12.037933</td>\n",
       "      <td>4428</td>\n",
       "      <td>7.9</td>\n",
       "      <td>121</td>\n",
       "      <td>Mark Hamill|Harrison Ford|Carrie Fisher|Peter ...</td>\n",
       "      <td>George Lucas</td>\n",
       "      <td>Adventure|Action|Science Fiction</td>\n",
       "      <td>3.957559e+07</td>\n",
       "      <td>2.789712e+09</td>\n",
       "      <td>1977</td>\n",
       "      <td>2.750137e+09</td>\n",
       "    </tr>\n",
       "  </tbody>\n",
       "</table>\n",
       "</div>"
      ],
      "text/plain": [
       "     original_title  popularity  vote_count  vote_average  runtime  \\\n",
       "1329      Star Wars   12.037933        4428           7.9      121   \n",
       "\n",
       "                                                   cast      director  \\\n",
       "1329  Mark Hamill|Harrison Ford|Carrie Fisher|Peter ...  George Lucas   \n",
       "\n",
       "                                genres    budget_adj   revenue_adj  \\\n",
       "1329  Adventure|Action|Science Fiction  3.957559e+07  2.789712e+09   \n",
       "\n",
       "      release_year        profit  \n",
       "1329          1977  2.750137e+09  "
      ]
     },
     "execution_count": 35,
     "metadata": {},
     "output_type": "execute_result"
    }
   ],
   "source": [
    "df[df['profit'] == df['profit'].max()]"
   ]
  },
  {
   "cell_type": "code",
   "execution_count": 36,
   "metadata": {},
   "outputs": [
    {
     "data": {
      "text/html": [
       "<div>\n",
       "<style scoped>\n",
       "    .dataframe tbody tr th:only-of-type {\n",
       "        vertical-align: middle;\n",
       "    }\n",
       "\n",
       "    .dataframe tbody tr th {\n",
       "        vertical-align: top;\n",
       "    }\n",
       "\n",
       "    .dataframe thead th {\n",
       "        text-align: right;\n",
       "    }\n",
       "</style>\n",
       "<table border=\"1\" class=\"dataframe\">\n",
       "  <thead>\n",
       "    <tr style=\"text-align: right;\">\n",
       "      <th></th>\n",
       "      <th>original_title</th>\n",
       "      <th>popularity</th>\n",
       "      <th>vote_count</th>\n",
       "      <th>vote_average</th>\n",
       "      <th>runtime</th>\n",
       "      <th>cast</th>\n",
       "      <th>director</th>\n",
       "      <th>genres</th>\n",
       "      <th>budget_adj</th>\n",
       "      <th>revenue_adj</th>\n",
       "      <th>release_year</th>\n",
       "      <th>profit</th>\n",
       "    </tr>\n",
       "  </thead>\n",
       "  <tbody>\n",
       "    <tr>\n",
       "      <th>2244</th>\n",
       "      <td>The Warrior's Way</td>\n",
       "      <td>0.25054</td>\n",
       "      <td>74</td>\n",
       "      <td>6.4</td>\n",
       "      <td>100</td>\n",
       "      <td>Kate Bosworth|Jang Dong-gun|Geoffrey Rush|Dann...</td>\n",
       "      <td>Sngmoo Lee</td>\n",
       "      <td>Adventure|Fantasy|Action|Western|Thriller</td>\n",
       "      <td>425000000.0</td>\n",
       "      <td>11087569.0</td>\n",
       "      <td>2010</td>\n",
       "      <td>-413912431.0</td>\n",
       "    </tr>\n",
       "  </tbody>\n",
       "</table>\n",
       "</div>"
      ],
      "text/plain": [
       "         original_title  popularity  vote_count  vote_average  runtime  \\\n",
       "2244  The Warrior's Way     0.25054          74           6.4      100   \n",
       "\n",
       "                                                   cast    director  \\\n",
       "2244  Kate Bosworth|Jang Dong-gun|Geoffrey Rush|Dann...  Sngmoo Lee   \n",
       "\n",
       "                                         genres   budget_adj  revenue_adj  \\\n",
       "2244  Adventure|Fantasy|Action|Western|Thriller  425000000.0   11087569.0   \n",
       "\n",
       "      release_year       profit  \n",
       "2244          2010 -413912431.0  "
      ]
     },
     "execution_count": 36,
     "metadata": {},
     "output_type": "execute_result"
    }
   ],
   "source": [
    "df[df['profit'] == df['profit'].min()]"
   ]
  },
  {
   "cell_type": "markdown",
   "metadata": {},
   "source": [
    "**Result** \n",
    "\n",
    "+ Star Wars is the highest profit movie with total earn = 2.750137e+09 $\n",
    "\n",
    "+ The Warrior's Way is the lowest profit movie with total lost = 413,912,431 $"
   ]
  },
  {
   "cell_type": "markdown",
   "metadata": {},
   "source": [
    "### Research Question 5 ( The distribution of the number of movies along years & The most production year?)"
   ]
  },
  {
   "cell_type": "code",
   "execution_count": 37,
   "metadata": {},
   "outputs": [
    {
     "data": {
      "text/plain": [
       "('The description ',\n",
       " count    3849.000000\n",
       " mean     2001.258249\n",
       " std        11.285642\n",
       " min      1960.000000\n",
       " 25%      1995.000000\n",
       " 50%      2004.000000\n",
       " 75%      2010.000000\n",
       " max      2015.000000\n",
       " Name: release_year, dtype: float64,\n",
       " 'The bar chart for release_year')"
      ]
     },
     "execution_count": 37,
     "metadata": {},
     "output_type": "execute_result"
    },
    {
     "data": {
      "image/png": "[encoded data removed]",
      "text/plain": [
       "<Figure size 432x288 with 1 Axes>"
      ]
     },
     "metadata": {
      "needs_background": "light"
     },
     "output_type": "display_data"
    }
   ],
   "source": [
    "display_barplot_description('release_year','release_year','Num','The Release Year Dis')"
   ]
  },
  {
   "cell_type": "code",
   "execution_count": 38,
   "metadata": {},
   "outputs": [
    {
     "data": {
      "text/plain": [
       "2011    199\n",
       "2013    180\n",
       "2010    178\n",
       "2009    174\n",
       "2006    169\n",
       "2008    166\n",
       "2014    165\n",
       "2007    164\n",
       "2005    163\n",
       "2015    160\n",
       "2012    157\n",
       "2004    147\n",
       "2002    126\n",
       "2001    121\n",
       "2003    121\n",
       "1999    116\n",
       "2000    106\n",
       "1998     92\n",
       "1997     90\n",
       "1996     86\n",
       "1995     81\n",
       "1993     72\n",
       "1994     62\n",
       "1988     56\n",
       "1990     53\n",
       "1992     53\n",
       "1989     51\n",
       "1991     50\n",
       "1986     48\n",
       "1987     46\n",
       "1984     42\n",
       "1985     41\n",
       "1983     31\n",
       "1981     30\n",
       "1982     26\n",
       "1980     23\n",
       "1977     19\n",
       "1978     17\n",
       "1979     16\n",
       "1976     15\n",
       "1967     13\n",
       "1974     13\n",
       "1971     13\n",
       "1973     12\n",
       "1970     11\n",
       "1961     10\n",
       "1975      9\n",
       "1968      9\n",
       "1972      8\n",
       "1962      7\n",
       "1964      7\n",
       "1963      6\n",
       "1965      5\n",
       "1966      5\n",
       "1960      5\n",
       "1969      4\n",
       "Name: release_year, dtype: int64"
      ]
     },
     "execution_count": 38,
     "metadata": {},
     "output_type": "execute_result"
    }
   ],
   "source": [
    "df.release_year.value_counts()"
   ]
  },
  {
   "cell_type": "markdown",
   "metadata": {},
   "source": [
    "**Result** \n",
    "\n",
    "+ the histogram shows that the distribution is left skewed & the number of movies increase by years.\n",
    "\n",
    "+ 2011 the the most production year with total 199 movies."
   ]
  },
  {
   "cell_type": "markdown",
   "metadata": {},
   "source": [
    "### Research Question 6 ( The correlation between budget & both revenue & profit?)"
   ]
  },
  {
   "cell_type": "code",
   "execution_count": 39,
   "metadata": {},
   "outputs": [
    {
     "data": {
      "image/png": "[encoded data removed]",
      "text/plain": [
       "<Figure size 432x288 with 1 Axes>"
      ]
     },
     "metadata": {
      "needs_background": "light"
     },
     "output_type": "display_data"
    }
   ],
   "source": [
    "df.plot(x= 'budget_adj',y='revenue_adj',kind = 'scatter')\n",
    "plt.title('The correlation between budget & revenue');"
   ]
  },
  {
   "cell_type": "code",
   "execution_count": 40,
   "metadata": {},
   "outputs": [
    {
     "data": {
      "image/png": "[encoded data removed]",
      "text/plain": [
       "<Figure size 432x288 with 1 Axes>"
      ]
     },
     "metadata": {
      "needs_background": "light"
     },
     "output_type": "display_data"
    }
   ],
   "source": [
    "df.plot(x= 'budget_adj',y='profit',kind = 'scatter')\n",
    "plt.title('The correlation between budget & profit');"
   ]
  },
  {
   "cell_type": "markdown",
   "metadata": {},
   "source": [
    "**Result** \n",
    "\n",
    "+ budget has a positive correlation with revenue\n",
    "\n",
    "+ budget has a negative correlation with profit"
   ]
  },
  {
   "cell_type": "markdown",
   "metadata": {},
   "source": [
    "### Research Question 7 ( The correlation between Popularity &  profit?)"
   ]
  },
  {
   "cell_type": "code",
   "execution_count": 41,
   "metadata": {},
   "outputs": [
    {
     "data": {
      "image/png": "[encoded data removed]",
      "text/plain": [
       "<Figure size 432x288 with 1 Axes>"
      ]
     },
     "metadata": {
      "needs_background": "light"
     },
     "output_type": "display_data"
    }
   ],
   "source": [
    "df.plot(x= 'popularity',y='profit',kind = 'scatter')\n",
    "plt.title('The correlation between Popularity & profit');"
   ]
  },
  {
   "cell_type": "markdown",
   "metadata": {},
   "source": [
    "**Result** \n",
    "\n",
    "+ Popularity has a positive correlation with profit"
   ]
  },
  {
   "cell_type": "markdown",
   "metadata": {},
   "source": [
    "### Research Question 8  (? What kinds of properties are associated with movies that have high revenues?)"
   ]
  },
  {
   "cell_type": "code",
   "execution_count": 42,
   "metadata": {},
   "outputs": [
    {
     "data": {
      "text/plain": [
       "61813934.3290779"
      ]
     },
     "execution_count": 42,
     "metadata": {},
     "output_type": "execute_result"
    }
   ],
   "source": [
    "# get the median value for revenue\n",
    "df['revenue_adj'].median()"
   ]
  },
  {
   "cell_type": "code",
   "execution_count": 43,
   "metadata": {},
   "outputs": [],
   "source": [
    "# make a datafram for the high revenue movies\n",
    "high_rev_movies = df.query('revenue_adj >= 61813934.3290779')"
   ]
  },
  {
   "cell_type": "code",
   "execution_count": 44,
   "metadata": {},
   "outputs": [
    {
     "data": {
      "text/html": [
       "<div>\n",
       "<style scoped>\n",
       "    .dataframe tbody tr th:only-of-type {\n",
       "        vertical-align: middle;\n",
       "    }\n",
       "\n",
       "    .dataframe tbody tr th {\n",
       "        vertical-align: top;\n",
       "    }\n",
       "\n",
       "    .dataframe thead th {\n",
       "        text-align: right;\n",
       "    }\n",
       "</style>\n",
       "<table border=\"1\" class=\"dataframe\">\n",
       "  <thead>\n",
       "    <tr style=\"text-align: right;\">\n",
       "      <th></th>\n",
       "      <th>popularity</th>\n",
       "      <th>vote_count</th>\n",
       "      <th>vote_average</th>\n",
       "      <th>runtime</th>\n",
       "      <th>budget_adj</th>\n",
       "      <th>revenue_adj</th>\n",
       "      <th>release_year</th>\n",
       "      <th>profit</th>\n",
       "    </tr>\n",
       "  </thead>\n",
       "  <tbody>\n",
       "    <tr>\n",
       "      <th>count</th>\n",
       "      <td>1925.000000</td>\n",
       "      <td>1925.000000</td>\n",
       "      <td>1925.000000</td>\n",
       "      <td>1925.000000</td>\n",
       "      <td>1.925000e+03</td>\n",
       "      <td>1.925000e+03</td>\n",
       "      <td>1925.000000</td>\n",
       "      <td>1.925000e+03</td>\n",
       "    </tr>\n",
       "    <tr>\n",
       "      <th>mean</th>\n",
       "      <td>1.700074</td>\n",
       "      <td>869.858701</td>\n",
       "      <td>6.323688</td>\n",
       "      <td>113.634286</td>\n",
       "      <td>6.579147e+07</td>\n",
       "      <td>2.526144e+08</td>\n",
       "      <td>2000.103896</td>\n",
       "      <td>1.868229e+08</td>\n",
       "    </tr>\n",
       "    <tr>\n",
       "      <th>std</th>\n",
       "      <td>1.867953</td>\n",
       "      <td>1105.249289</td>\n",
       "      <td>0.740750</td>\n",
       "      <td>21.115937</td>\n",
       "      <td>5.023050e+07</td>\n",
       "      <td>2.579026e+08</td>\n",
       "      <td>12.127725</td>\n",
       "      <td>2.390512e+08</td>\n",
       "    </tr>\n",
       "    <tr>\n",
       "      <th>min</th>\n",
       "      <td>0.010335</td>\n",
       "      <td>10.000000</td>\n",
       "      <td>3.400000</td>\n",
       "      <td>69.000000</td>\n",
       "      <td>2.248029e+02</td>\n",
       "      <td>6.181393e+07</td>\n",
       "      <td>1960.000000</td>\n",
       "      <td>-1.551102e+08</td>\n",
       "    </tr>\n",
       "    <tr>\n",
       "      <th>25%</th>\n",
       "      <td>0.767389</td>\n",
       "      <td>201.000000</td>\n",
       "      <td>5.800000</td>\n",
       "      <td>98.000000</td>\n",
       "      <td>2.877829e+07</td>\n",
       "      <td>9.618890e+07</td>\n",
       "      <td>1994.000000</td>\n",
       "      <td>5.630712e+07</td>\n",
       "    </tr>\n",
       "    <tr>\n",
       "      <th>50%</th>\n",
       "      <td>1.207663</td>\n",
       "      <td>467.000000</td>\n",
       "      <td>6.300000</td>\n",
       "      <td>110.000000</td>\n",
       "      <td>5.200000e+07</td>\n",
       "      <td>1.634115e+08</td>\n",
       "      <td>2003.000000</td>\n",
       "      <td>1.075480e+08</td>\n",
       "    </tr>\n",
       "    <tr>\n",
       "      <th>75%</th>\n",
       "      <td>1.975304</td>\n",
       "      <td>1056.000000</td>\n",
       "      <td>6.900000</td>\n",
       "      <td>125.000000</td>\n",
       "      <td>9.036409e+07</td>\n",
       "      <td>3.066132e+08</td>\n",
       "      <td>2009.000000</td>\n",
       "      <td>2.235139e+08</td>\n",
       "    </tr>\n",
       "    <tr>\n",
       "      <th>max</th>\n",
       "      <td>32.985763</td>\n",
       "      <td>9767.000000</td>\n",
       "      <td>8.300000</td>\n",
       "      <td>248.000000</td>\n",
       "      <td>3.683713e+08</td>\n",
       "      <td>2.827124e+09</td>\n",
       "      <td>2015.000000</td>\n",
       "      <td>2.750137e+09</td>\n",
       "    </tr>\n",
       "  </tbody>\n",
       "</table>\n",
       "</div>"
      ],
      "text/plain": [
       "        popularity   vote_count  vote_average      runtime    budget_adj  \\\n",
       "count  1925.000000  1925.000000   1925.000000  1925.000000  1.925000e+03   \n",
       "mean      1.700074   869.858701      6.323688   113.634286  6.579147e+07   \n",
       "std       1.867953  1105.249289      0.740750    21.115937  5.023050e+07   \n",
       "min       0.010335    10.000000      3.400000    69.000000  2.248029e+02   \n",
       "25%       0.767389   201.000000      5.800000    98.000000  2.877829e+07   \n",
       "50%       1.207663   467.000000      6.300000   110.000000  5.200000e+07   \n",
       "75%       1.975304  1056.000000      6.900000   125.000000  9.036409e+07   \n",
       "max      32.985763  9767.000000      8.300000   248.000000  3.683713e+08   \n",
       "\n",
       "        revenue_adj  release_year        profit  \n",
       "count  1.925000e+03   1925.000000  1.925000e+03  \n",
       "mean   2.526144e+08   2000.103896  1.868229e+08  \n",
       "std    2.579026e+08     12.127725  2.390512e+08  \n",
       "min    6.181393e+07   1960.000000 -1.551102e+08  \n",
       "25%    9.618890e+07   1994.000000  5.630712e+07  \n",
       "50%    1.634115e+08   2003.000000  1.075480e+08  \n",
       "75%    3.066132e+08   2009.000000  2.235139e+08  \n",
       "max    2.827124e+09   2015.000000  2.750137e+09  "
      ]
     },
     "execution_count": 44,
     "metadata": {},
     "output_type": "execute_result"
    }
   ],
   "source": [
    "high_rev_movies.describe()"
   ]
  },
  {
   "cell_type": "code",
   "execution_count": 45,
   "metadata": {},
   "outputs": [
    {
     "data": {
      "image/png": "[encoded data removed]",
      "text/plain": [
       "<Figure size 1152x1008 with 9 Axes>"
      ]
     },
     "metadata": {
      "needs_background": "light"
     },
     "output_type": "display_data"
    }
   ],
   "source": [
    "high_rev_movies.hist(figsize= (16,14));"
   ]
  },
  {
   "cell_type": "markdown",
   "metadata": {},
   "source": [
    "**Result** \n",
    "\n",
    "+ dataset has 1925 high revenue movies with with average revenue = 2.526144e+08 dollar & average profit = 1.868229e+08 dollar\n"
   ]
  },
  {
   "cell_type": "code",
   "execution_count": 46,
   "metadata": {},
   "outputs": [
    {
     "data": {
      "text/html": [
       "<div>\n",
       "<style scoped>\n",
       "    .dataframe tbody tr th:only-of-type {\n",
       "        vertical-align: middle;\n",
       "    }\n",
       "\n",
       "    .dataframe tbody tr th {\n",
       "        vertical-align: top;\n",
       "    }\n",
       "\n",
       "    .dataframe thead th {\n",
       "        text-align: right;\n",
       "    }\n",
       "</style>\n",
       "<table border=\"1\" class=\"dataframe\">\n",
       "  <thead>\n",
       "    <tr style=\"text-align: right;\">\n",
       "      <th></th>\n",
       "      <th>original_title</th>\n",
       "      <th>popularity</th>\n",
       "      <th>vote_count</th>\n",
       "      <th>vote_average</th>\n",
       "      <th>runtime</th>\n",
       "      <th>cast</th>\n",
       "      <th>director</th>\n",
       "      <th>genres</th>\n",
       "      <th>budget_adj</th>\n",
       "      <th>revenue_adj</th>\n",
       "      <th>release_year</th>\n",
       "      <th>profit</th>\n",
       "    </tr>\n",
       "  </thead>\n",
       "  <tbody>\n",
       "    <tr>\n",
       "      <th>0</th>\n",
       "      <td>Jurassic World</td>\n",
       "      <td>32.985763</td>\n",
       "      <td>5562</td>\n",
       "      <td>6.5</td>\n",
       "      <td>124</td>\n",
       "      <td>Chris Pratt|Bryce Dallas Howard|Irrfan Khan|Vi...</td>\n",
       "      <td>Colin Trevorrow</td>\n",
       "      <td>Action|Adventure|Science Fiction|Thriller</td>\n",
       "      <td>1.379999e+08</td>\n",
       "      <td>1.392446e+09</td>\n",
       "      <td>2015</td>\n",
       "      <td>1.254446e+09</td>\n",
       "    </tr>\n",
       "    <tr>\n",
       "      <th>1</th>\n",
       "      <td>Mad Max: Fury Road</td>\n",
       "      <td>28.419936</td>\n",
       "      <td>6185</td>\n",
       "      <td>7.1</td>\n",
       "      <td>120</td>\n",
       "      <td>Tom Hardy|Charlize Theron|Hugh Keays-Byrne|Nic...</td>\n",
       "      <td>George Miller</td>\n",
       "      <td>Action|Adventure|Science Fiction|Thriller</td>\n",
       "      <td>1.379999e+08</td>\n",
       "      <td>3.481613e+08</td>\n",
       "      <td>2015</td>\n",
       "      <td>2.101614e+08</td>\n",
       "    </tr>\n",
       "    <tr>\n",
       "      <th>2</th>\n",
       "      <td>Insurgent</td>\n",
       "      <td>13.112507</td>\n",
       "      <td>2480</td>\n",
       "      <td>6.3</td>\n",
       "      <td>119</td>\n",
       "      <td>Shailene Woodley|Theo James|Kate Winslet|Ansel...</td>\n",
       "      <td>Robert Schwentke</td>\n",
       "      <td>Adventure|Science Fiction|Thriller</td>\n",
       "      <td>1.012000e+08</td>\n",
       "      <td>2.716190e+08</td>\n",
       "      <td>2015</td>\n",
       "      <td>1.704191e+08</td>\n",
       "    </tr>\n",
       "    <tr>\n",
       "      <th>3</th>\n",
       "      <td>Star Wars: The Force Awakens</td>\n",
       "      <td>11.173104</td>\n",
       "      <td>5292</td>\n",
       "      <td>7.5</td>\n",
       "      <td>136</td>\n",
       "      <td>Harrison Ford|Mark Hamill|Carrie Fisher|Adam D...</td>\n",
       "      <td>J.J. Abrams</td>\n",
       "      <td>Action|Adventure|Science Fiction|Fantasy</td>\n",
       "      <td>1.839999e+08</td>\n",
       "      <td>1.902723e+09</td>\n",
       "      <td>2015</td>\n",
       "      <td>1.718723e+09</td>\n",
       "    </tr>\n",
       "    <tr>\n",
       "      <th>4</th>\n",
       "      <td>Furious 7</td>\n",
       "      <td>9.335014</td>\n",
       "      <td>2947</td>\n",
       "      <td>7.3</td>\n",
       "      <td>137</td>\n",
       "      <td>Vin Diesel|Paul Walker|Jason Statham|Michelle ...</td>\n",
       "      <td>James Wan</td>\n",
       "      <td>Action|Crime|Thriller</td>\n",
       "      <td>1.747999e+08</td>\n",
       "      <td>1.385749e+09</td>\n",
       "      <td>2015</td>\n",
       "      <td>1.210949e+09</td>\n",
       "    </tr>\n",
       "  </tbody>\n",
       "</table>\n",
       "</div>"
      ],
      "text/plain": [
       "                 original_title  popularity  vote_count  vote_average  \\\n",
       "0                Jurassic World   32.985763        5562           6.5   \n",
       "1            Mad Max: Fury Road   28.419936        6185           7.1   \n",
       "2                     Insurgent   13.112507        2480           6.3   \n",
       "3  Star Wars: The Force Awakens   11.173104        5292           7.5   \n",
       "4                     Furious 7    9.335014        2947           7.3   \n",
       "\n",
       "   runtime                                               cast  \\\n",
       "0      124  Chris Pratt|Bryce Dallas Howard|Irrfan Khan|Vi...   \n",
       "1      120  Tom Hardy|Charlize Theron|Hugh Keays-Byrne|Nic...   \n",
       "2      119  Shailene Woodley|Theo James|Kate Winslet|Ansel...   \n",
       "3      136  Harrison Ford|Mark Hamill|Carrie Fisher|Adam D...   \n",
       "4      137  Vin Diesel|Paul Walker|Jason Statham|Michelle ...   \n",
       "\n",
       "           director                                     genres    budget_adj  \\\n",
       "0   Colin Trevorrow  Action|Adventure|Science Fiction|Thriller  1.379999e+08   \n",
       "1     George Miller  Action|Adventure|Science Fiction|Thriller  1.379999e+08   \n",
       "2  Robert Schwentke         Adventure|Science Fiction|Thriller  1.012000e+08   \n",
       "3       J.J. Abrams   Action|Adventure|Science Fiction|Fantasy  1.839999e+08   \n",
       "4         James Wan                      Action|Crime|Thriller  1.747999e+08   \n",
       "\n",
       "    revenue_adj  release_year        profit  \n",
       "0  1.392446e+09          2015  1.254446e+09  \n",
       "1  3.481613e+08          2015  2.101614e+08  \n",
       "2  2.716190e+08          2015  1.704191e+08  \n",
       "3  1.902723e+09          2015  1.718723e+09  \n",
       "4  1.385749e+09          2015  1.210949e+09  "
      ]
     },
     "execution_count": 46,
     "metadata": {},
     "output_type": "execute_result"
    }
   ],
   "source": [
    "df.head()"
   ]
  },
  {
   "cell_type": "markdown",
   "metadata": {},
   "source": [
    "### Research Question 9  (Which director are most popular ??)"
   ]
  },
  {
   "cell_type": "code",
   "execution_count": 47,
   "metadata": {},
   "outputs": [
    {
     "data": {
      "text/plain": [
       "Steven Spielberg          27\n",
       "Clint Eastwood            24\n",
       "Ridley Scott              21\n",
       "Woody Allen               18\n",
       "Steven Soderbergh         17\n",
       "                          ..\n",
       "Wayne Wang|Paul Auster     1\n",
       "Jean-FranÃ§ois Richet      1\n",
       "Stewart Raffill            1\n",
       "Vic Armstrong              1\n",
       "Christopher Spencer        1\n",
       "Name: director, Length: 1710, dtype: int64"
      ]
     },
     "execution_count": 47,
     "metadata": {},
     "output_type": "execute_result"
    }
   ],
   "source": [
    "df.director.value_counts()"
   ]
  },
  {
   "cell_type": "markdown",
   "metadata": {},
   "source": [
    "**Result** \n",
    "\n",
    "+ Steven Spielberg is the most popular director with 27 movies\n"
   ]
  },
  {
   "cell_type": "markdown",
   "metadata": {},
   "source": [
    "### Research Question 10  (Which genres are most popular from year to year???)"
   ]
  },
  {
   "cell_type": "code",
   "execution_count": 48,
   "metadata": {},
   "outputs": [],
   "source": [
    "# convert geres column to string\n",
    "genres_str = df['genres'].to_string(header= False,index=False)"
   ]
  },
  {
   "cell_type": "code",
   "execution_count": 49,
   "metadata": {
    "scrolled": false
   },
   "outputs": [],
   "source": [
    "# clean the genres_str\n",
    "genres_str = genres_str.replace(\"\\n\",'|') # replace \\n with | \n",
    "clean_genres_str = \" \".join(genres_str.split()) # **  \n",
    "clean_genres_str = clean_genres_str.replace(' ','') # remove the remaining spaces "
   ]
  },
  {
   "cell_type": "markdown",
   "metadata": {},
   "source": [
    " ** get rid of all the duplicate whitespaces and newline characters (get the code from this [link](https://www.journaldev.com/23763/python-remove-spaces-from-string))"
   ]
  },
  {
   "cell_type": "code",
   "execution_count": 50,
   "metadata": {},
   "outputs": [],
   "source": [
    "# make a list of genres\n",
    "gen_list = clean_genres_str.split('|')"
   ]
  },
  {
   "cell_type": "code",
   "execution_count": 51,
   "metadata": {},
   "outputs": [
    {
     "data": {
      "text/plain": [
       "{'Action': 1085,\n",
       " 'Adventure': 748,\n",
       " 'ScienceFiction': 519,\n",
       " 'Thriller': 1202,\n",
       " 'Fantasy': 396,\n",
       " 'Crime': 651,\n",
       " 'Western': 52,\n",
       " 'Drama': 1753,\n",
       " 'Family': 425,\n",
       " 'Animation': 201,\n",
       " 'Comedy': 1357,\n",
       " 'Mystery': 344,\n",
       " 'Romance': 666,\n",
       " 'War': 119,\n",
       " 'History': 129,\n",
       " 'Music': 134,\n",
       " 'Horror': 463,\n",
       " 'Thri...': 1,\n",
       " 'Documentary': 31,\n",
       " 'Foreign': 12,\n",
       " 'Adven...': 1,\n",
       " 'TVMovie': 1}"
      ]
     },
     "execution_count": 51,
     "metadata": {},
     "output_type": "execute_result"
    }
   ],
   "source": [
    "# create a dictionary with a genres as a keys & repetition as a values\n",
    "genres_counter = {}\n",
    "for gen in gen_list:\n",
    "    if gen not in genres_counter:\n",
    "        genres_counter[gen] = 1\n",
    "    else:\n",
    "        genres_counter[gen] += 1\n",
    "        \n",
    "genres_counter"
   ]
  },
  {
   "cell_type": "code",
   "execution_count": 52,
   "metadata": {},
   "outputs": [
    {
     "data": {
      "text/plain": [
       "'Drama'"
      ]
     },
     "execution_count": 52,
     "metadata": {},
     "output_type": "execute_result"
    }
   ],
   "source": [
    "# get the Max repeated genre \n",
    "max(genres_counter,key= genres_counter.get)"
   ]
  },
  {
   "cell_type": "markdown",
   "metadata": {},
   "source": [
    "**Result** \n",
    "\n",
    "+ Drama is the most popular genre with 1753 movies \n"
   ]
  },
  {
   "cell_type": "markdown",
   "metadata": {},
   "source": [
    "<a id='conclusions'></a>\n",
    "## Conclusions\n",
    "\n",
    "> #### **After assessing,cleaning & analyzing TMDb movie dataset I found the following results **:\n",
    "\n",
    "+ The dataset have total 3849 completed data movies, gathered for movies in time between 1960 to 2015, with average budget 4.429360e+07\tdollars & average revenue 1.372313e+08 dollars take in consideration that the budget and revenue of the associated movie in terms of 2010 dollars, accounting for inflation over time. \n",
    "\n",
    "+ also found that Jurassic World is the most popular movie with vote count 5562 & vote averange 6.5 & Born into Brothels is the less popular movie with vote count 23 & vote average 6.4\n",
    "\n",
    "+ The Warrior's Way is the highest cost movie & Avatar is the highest revenue movie \n",
    "+ Star Wars is the highest profit movie with total earn = 2.750137e+09 dollar & The Warrior's Way is the lowest profit movie with total lost = 413,912,431 dollar\n",
    "+ The release year distribution is left skewed & the number of movies increase by years. also 2011 the the most production year with total 199 movies.\n",
    "+ budget has a positive correlation with revenue & a negative correlation with profit\n",
    "+ Popularity has a positive correlation with profit\n",
    "+ The dataset for the most highly revenue movies has 1925 movies with average revenue = 2.526144e+08 dollar & average profit = 1.868229e+08 dollar\n",
    "+ Steven Spielberg is the most popular director with 27 movies\n",
    "+ Drama is the most popular genre with 1753 movies\n",
    "> #### **Limitations **:\n",
    "+ Drop duplicated columns\n",
    "\n",
    "+ Drop columnes which no need for it in analysis ('imdb_id','id','homepage','tagline','keywords','overview','release_date','budget','revenue','production_companies')\n",
    "\n",
    "+ Drop any rows in dataset that contain missing values\n",
    "\n",
    "+ Drop any rows in dataset that contain 0 value in (budget_adj,revenue_adj & runtime)\n"
   ]
  }
 ],
 "metadata": {
  "kernelspec": {
   "display_name": "Python 3",
   "language": "python",
   "name": "python3"
  },
  "language_info": {
   "codemirror_mode": {
    "name": "ipython",
    "version": 3
   },
   "file_extension": ".py",
   "mimetype": "text/x-python",
   "name": "python",
   "nbconvert_exporter": "python",
   "pygments_lexer": "ipython3",
   "version": "3.8.8"
  }
 },
 "nbformat": 4,
 "nbformat_minor": 2
}
